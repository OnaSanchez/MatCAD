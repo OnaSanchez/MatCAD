{
 "cells": [
  {
   "cell_type": "markdown",
   "metadata": {},
   "source": [
    "S'han realitzat els exercicis per a tenir fins a un 10:\n",
    "Fer els exercicis 1 i 2, i resoldre amb la funció construïda a l’exercici 2 tots els PL de l’exercici 3. En aquest cas no cal fer el problema 3 pas a pas. Llevat de construir a mà la fase I i després passar a la fase II manualment."
   ]
  },
  {
   "cell_type": "markdown",
   "metadata": {},
   "source": [
    "EXERCICI 1(a):\n",
    "Una funció que tingui com a argument una matriu i dos índexos i (fila) i j (columna), i pivoti sobre la component aij , convertint la columna j en la columna i de la matriu identitat (només un 1 a la fila i). La sortida ha de ser aquesta matriu resultant. En cas que aij ≤ 0 la funció ha de tornar un missatge d’error."
   ]
  },
  {
   "cell_type": "code",
   "execution_count": 1,
   "metadata": {},
   "outputs": [],
   "source": [
    "def pivota(matriu,i,j):\n",
    "    pivot = matriu[i][j]\n",
    "    if(pivot <= 0):\n",
    "        return \"Error: El pivot és menor o igual a 0\"\n",
    "    n = matriu.nrows()\n",
    "    iden = matrix.identity(n)\n",
    "    col = iden.column(i) #volem que la columna j de matriu sigui igual a col\n",
    "    matriu.rescale_row(i, 1/pivot)\n",
    "    for element in range(0,len(col)):\n",
    "        if(element != i):\n",
    "            matriu.add_multiple_of_row(element, i, -matriu[element][j])\n",
    "  \n",
    "    return matriu"
   ]
  },
  {
   "cell_type": "markdown",
   "metadata": {},
   "source": [
    "Exemple de funcionament de la funció:"
   ]
  },
  {
   "cell_type": "code",
   "execution_count": 2,
   "metadata": {
    "scrolled": true
   },
   "outputs": [
    {
     "data": {
      "text/html": [
       "<html><script type=\"math/tex; mode=display\">\\newcommand{\\Bold}[1]{\\mathbf{#1}}\\left(\\begin{array}{rrrrrr}\n",
       "1.00000000000000 & 2.00000000000000 & 3.00000000000000 & 6.00000000000000 & 7.00000000000000 & 8.00000000000000 \\\\\n",
       "3.00000000000000 & 2.00000000000000 & 1.00000000000000 & 1.00000000000000 & 2.00000000000000 & 3.00000000000000 \\\\\n",
       "1.00000000000000 & 1.00000000000000 & 1.00000000000000 & 8.00000000000000 & 6.00000000000000 & -5.00000000000000 \\\\\n",
       "1.00000000000000 & 2.00000000000000 & 3.00000000000000 & 4.00000000000000 & 5.00000000000000 & 6.00000000000000\n",
       "\\end{array}\\right)</script></html>"
      ],
      "text/plain": [
       "[ 1.00000000000000  2.00000000000000  3.00000000000000  6.00000000000000  7.00000000000000  8.00000000000000]\n",
       "[ 3.00000000000000  2.00000000000000  1.00000000000000  1.00000000000000  2.00000000000000  3.00000000000000]\n",
       "[ 1.00000000000000  1.00000000000000  1.00000000000000  8.00000000000000  6.00000000000000 -5.00000000000000]\n",
       "[ 1.00000000000000  2.00000000000000  3.00000000000000  4.00000000000000  5.00000000000000  6.00000000000000]"
      ]
     },
     "metadata": {},
     "output_type": "display_data"
    },
    {
     "data": {
      "text/html": [
       "<html><script type=\"math/tex; mode=display\">\\newcommand{\\Bold}[1]{\\mathbf{#1}}\\verb|Error:|\\phantom{\\verb!x!}\\verb|El|\\phantom{\\verb!x!}\\verb|pivot|\\phantom{\\verb!x!}\\verb|és|\\phantom{\\verb!x!}\\verb|menor|\\phantom{\\verb!x!}\\verb|o|\\phantom{\\verb!x!}\\verb|igual|\\phantom{\\verb!x!}\\verb|a|\\phantom{\\verb!x!}\\verb|0|</script></html>"
      ],
      "text/plain": [
       "'Error: El pivot és menor o igual a 0'"
      ]
     },
     "metadata": {},
     "output_type": "display_data"
    },
    {
     "data": {
      "text/html": [
       "<html><script type=\"math/tex; mode=display\">\\newcommand{\\Bold}[1]{\\mathbf{#1}}\\left(\\begin{array}{rrrrrr}\n",
       "1.00000000000000 & 2.00000000000000 & 3.00000000000000 & 6.00000000000000 & 7.00000000000000 & 8.00000000000000 \\\\\n",
       "3.00000000000000 & 2.00000000000000 & 1.00000000000000 & 1.00000000000000 & 2.00000000000000 & 3.00000000000000 \\\\\n",
       "1.00000000000000 & 1.00000000000000 & 1.00000000000000 & 8.00000000000000 & 6.00000000000000 & 5.00000000000000 \\\\\n",
       "1.00000000000000 & 2.00000000000000 & 3.00000000000000 & 4.00000000000000 & 5.00000000000000 & 6.00000000000000\n",
       "\\end{array}\\right)</script></html>"
      ],
      "text/plain": [
       "[1.00000000000000 2.00000000000000 3.00000000000000 6.00000000000000 7.00000000000000 8.00000000000000]\n",
       "[3.00000000000000 2.00000000000000 1.00000000000000 1.00000000000000 2.00000000000000 3.00000000000000]\n",
       "[1.00000000000000 1.00000000000000 1.00000000000000 8.00000000000000 6.00000000000000 5.00000000000000]\n",
       "[1.00000000000000 2.00000000000000 3.00000000000000 4.00000000000000 5.00000000000000 6.00000000000000]"
      ]
     },
     "metadata": {},
     "output_type": "display_data"
    },
    {
     "data": {
      "text/html": [
       "<html><script type=\"math/tex; mode=display\">\\newcommand{\\Bold}[1]{\\mathbf{#1}}\\left(\\begin{array}{rrrrrr}\n",
       "-0.600000000000000 & 0.400000000000000 & 1.40000000000000 & -6.80000000000000 & -2.60000000000000 & 0.000000000000000 \\\\\n",
       "2.40000000000000 & 1.40000000000000 & 0.400000000000000 & -3.80000000000000 & -1.60000000000000 & 0.000000000000000 \\\\\n",
       "0.200000000000000 & 0.200000000000000 & 0.200000000000000 & 1.60000000000000 & 1.20000000000000 & 1.00000000000000 \\\\\n",
       "-0.200000000000000 & 0.800000000000000 & 1.80000000000000 & -5.60000000000000 & -2.20000000000000 & 0.000000000000000\n",
       "\\end{array}\\right)</script></html>"
      ],
      "text/plain": [
       "[-0.600000000000000  0.400000000000000   1.40000000000000  -6.80000000000000  -2.60000000000000  0.000000000000000]\n",
       "[  2.40000000000000   1.40000000000000  0.400000000000000  -3.80000000000000  -1.60000000000000  0.000000000000000]\n",
       "[ 0.200000000000000  0.200000000000000  0.200000000000000   1.60000000000000   1.20000000000000   1.00000000000000]\n",
       "[-0.200000000000000  0.800000000000000   1.80000000000000  -5.60000000000000  -2.20000000000000  0.000000000000000]"
      ]
     },
     "metadata": {},
     "output_type": "display_data"
    }
   ],
   "source": [
    "#Prova 1 --> Error per aij <= 0\n",
    "A = Matrix(RR,[[1,2,3,6,7,8],[3,2,1,1,2,3],[1,1,1,8,6,-5], [1,2,3,4,5,6]])\n",
    "show(A)\n",
    "ans = pivota(A, 2, 5)\n",
    "show(ans)\n",
    "\n",
    "#Prova 2 --> Sense error\n",
    "A = Matrix(RR,[[1,2,3,6,7,8],[3,2,1,1,2,3],[1,1,1,8,6,5], [1,2,3,4,5,6]])\n",
    "#Abans de pivotar:\n",
    "show(A)\n",
    "ans = pivota(A, 2, 5)\n",
    "#Després de pivotar:\n",
    "show(ans)"
   ]
  },
  {
   "cell_type": "markdown",
   "metadata": {},
   "source": [
    "EXERCICI 1(b):\n",
    "Una funció per decidir si una matriu (d’un sistema) està actualitzada a una base d’índexos\n",
    "especificada. Ha de tenir com a arguments una matriu i un conjunt d’índexos B ⊆\n",
    "{1, 2, . . . , n} de mida m. La funció ha de tornar 1 si el sistema està actualitzat a la base\n",
    "B i 0 en cas contrari."
   ]
  },
  {
   "cell_type": "code",
   "execution_count": 3,
   "metadata": {},
   "outputs": [],
   "source": [
    "def actualitzada(matriu, indexos):\n",
    "    n = matriu.nrows()\n",
    "    aux = len(indexos)\n",
    "    iden = matrix.identity(n)\n",
    "    m = matriu.ncols()\n",
    "    suma=0\n",
    "    for i in range(0,m):\n",
    "        if(matriu.column(i) in iden):\n",
    "            suma+=1\n",
    "    if(suma>=aux):\n",
    "        return 1\n",
    "    return 0"
   ]
  },
  {
   "cell_type": "markdown",
   "metadata": {},
   "source": [
    "Exemple de funcionament de la funció:"
   ]
  },
  {
   "cell_type": "code",
   "execution_count": 4,
   "metadata": {},
   "outputs": [
    {
     "data": {
      "text/html": [
       "<html><script type=\"math/tex; mode=display\">\\newcommand{\\Bold}[1]{\\mathbf{#1}}\\left(\\begin{array}{rrrrrr}\n",
       "0.000000000000000 & 1.00000000000000 & 0.000000000000000 & 6.00000000000000 & 7.00000000000000 & 8.00000000000000 \\\\\n",
       "0.000000000000000 & 0.000000000000000 & 3.00000000000000 & 3.00000000000000 & 2.00000000000000 & 3.00000000000000 \\\\\n",
       "1.00000000000000 & 0.000000000000000 & 0.000000000000000 & 8.00000000000000 & 6.00000000000000 & -5.00000000000000\n",
       "\\end{array}\\right)</script></html>"
      ],
      "text/plain": [
       "[0.000000000000000  1.00000000000000 0.000000000000000  6.00000000000000  7.00000000000000  8.00000000000000]\n",
       "[0.000000000000000 0.000000000000000  3.00000000000000  3.00000000000000  2.00000000000000  3.00000000000000]\n",
       "[ 1.00000000000000 0.000000000000000 0.000000000000000  8.00000000000000  6.00000000000000 -5.00000000000000]"
      ]
     },
     "metadata": {},
     "output_type": "display_data"
    },
    {
     "data": {
      "text/html": [
       "<html><script type=\"math/tex; mode=display\">\\newcommand{\\Bold}[1]{\\mathbf{#1}}1</script></html>"
      ],
      "text/plain": [
       "1"
      ]
     },
     "metadata": {},
     "output_type": "display_data"
    },
    {
     "data": {
      "text/html": [
       "<html><script type=\"math/tex; mode=display\">\\newcommand{\\Bold}[1]{\\mathbf{#1}}\\left(\\begin{array}{rrrrrr}\n",
       "1.00000000000000 & 2.00000000000000 & 3.00000000000000 & 6.00000000000000 & 7.00000000000000 & 8.00000000000000 \\\\\n",
       "3.00000000000000 & 2.00000000000000 & 1.00000000000000 & 1.00000000000000 & 2.00000000000000 & 3.00000000000000 \\\\\n",
       "1.00000000000000 & 1.00000000000000 & 1.00000000000000 & 8.00000000000000 & 6.00000000000000 & 5.00000000000000 \\\\\n",
       "1.00000000000000 & 2.00000000000000 & 3.00000000000000 & 4.00000000000000 & 5.00000000000000 & 6.00000000000000\n",
       "\\end{array}\\right)</script></html>"
      ],
      "text/plain": [
       "[1.00000000000000 2.00000000000000 3.00000000000000 6.00000000000000 7.00000000000000 8.00000000000000]\n",
       "[3.00000000000000 2.00000000000000 1.00000000000000 1.00000000000000 2.00000000000000 3.00000000000000]\n",
       "[1.00000000000000 1.00000000000000 1.00000000000000 8.00000000000000 6.00000000000000 5.00000000000000]\n",
       "[1.00000000000000 2.00000000000000 3.00000000000000 4.00000000000000 5.00000000000000 6.00000000000000]"
      ]
     },
     "metadata": {},
     "output_type": "display_data"
    },
    {
     "data": {
      "text/html": [
       "<html><script type=\"math/tex; mode=display\">\\newcommand{\\Bold}[1]{\\mathbf{#1}}0</script></html>"
      ],
      "text/plain": [
       "0"
      ]
     },
     "metadata": {},
     "output_type": "display_data"
    }
   ],
   "source": [
    "A = Matrix(RR,[[0,1,0,6,7,8],[0,0,3,3,2,3],[1,0,0,8,6,-5]])\n",
    "show(A)\n",
    "ans = actualitzada(A, [1,2])\n",
    "show(ans)\n",
    "\n",
    "B = A = Matrix(RR,[[1,2,3,6,7,8],[3,2,1,1,2,3],[1,1,1,8,6,5], [1,2,3,4,5,6]])\n",
    "show(B)\n",
    "ans = actualitzada(A, [3,2])\n",
    "show(ans)"
   ]
  },
  {
   "cell_type": "markdown",
   "metadata": {},
   "source": [
    "EXERCICI 1(c):\n",
    "Una funció per decidir si una taula del símplex està actualitzada a una base especificada.\n",
    "Ha de tenir com a arguments una taula i una base. La funció ha de tornar 1 si la taula\n",
    "està actualitzada a la base B i 0 en cas contrari."
   ]
  },
  {
   "cell_type": "code",
   "execution_count": 5,
   "metadata": {},
   "outputs": [],
   "source": [
    "def t_actualitzada(taula, indexos):\n",
    "    n = taula.nrows()\n",
    "    aux = len(indexos)\n",
    "    iden = matrix.identity(n)\n",
    "    m = taula.ncols()\n",
    "    suma=0\n",
    "    for i in range(0,m):\n",
    "        if(taula.column(i) in iden):\n",
    "            suma+=1\n",
    "    if(suma>=aux):\n",
    "        return 1\n",
    "    return 0"
   ]
  },
  {
   "cell_type": "markdown",
   "metadata": {},
   "source": [
    "Exemple de funcionament de la funció:"
   ]
  },
  {
   "cell_type": "code",
   "execution_count": 6,
   "metadata": {},
   "outputs": [
    {
     "data": {
      "text/html": [
       "<html><script type=\"math/tex; mode=display\">\\newcommand{\\Bold}[1]{\\mathbf{#1}}\\left(\\begin{array}{rrrrrr}\n",
       "1.00000000000000 & 1.00000000000000 & 0.000000000000000 & 6.00000000000000 & 7.00000000000000 & 8.00000000000000 \\\\\n",
       "3.00000000000000 & 0.000000000000000 & 1.00000000000000 & 1.00000000000000 & 2.00000000000000 & 3.00000000000000 \\\\\n",
       "1.00000000000000 & 0.000000000000000 & 0.000000000000000 & 8.00000000000000 & 6.00000000000000 & -5.00000000000000 \\\\\n",
       "1.00000000000000 & 0.000000000000000 & 0.000000000000000 & 4.00000000000000 & 5.00000000000000 & 6.00000000000000\n",
       "\\end{array}\\right)</script></html>"
      ],
      "text/plain": [
       "[ 1.00000000000000  1.00000000000000 0.000000000000000  6.00000000000000  7.00000000000000  8.00000000000000]\n",
       "[ 3.00000000000000 0.000000000000000  1.00000000000000  1.00000000000000  2.00000000000000  3.00000000000000]\n",
       "[ 1.00000000000000 0.000000000000000 0.000000000000000  8.00000000000000  6.00000000000000 -5.00000000000000]\n",
       "[ 1.00000000000000 0.000000000000000 0.000000000000000  4.00000000000000  5.00000000000000  6.00000000000000]"
      ]
     },
     "metadata": {},
     "output_type": "display_data"
    },
    {
     "data": {
      "text/html": [
       "<html><script type=\"math/tex; mode=display\">\\newcommand{\\Bold}[1]{\\mathbf{#1}}1</script></html>"
      ],
      "text/plain": [
       "1"
      ]
     },
     "metadata": {},
     "output_type": "display_data"
    },
    {
     "data": {
      "text/html": [
       "<html><script type=\"math/tex; mode=display\">\\newcommand{\\Bold}[1]{\\mathbf{#1}}\\left(\\begin{array}{rrrrrr}\n",
       "1.00000000000000 & 2.00000000000000 & 3.00000000000000 & 6.00000000000000 & 7.00000000000000 & 8.00000000000000 \\\\\n",
       "3.00000000000000 & 2.00000000000000 & 1.00000000000000 & 1.00000000000000 & 2.00000000000000 & 3.00000000000000 \\\\\n",
       "1.00000000000000 & 1.00000000000000 & 1.00000000000000 & 8.00000000000000 & 6.00000000000000 & 5.00000000000000 \\\\\n",
       "1.00000000000000 & 2.00000000000000 & 3.00000000000000 & 4.00000000000000 & 5.00000000000000 & 6.00000000000000\n",
       "\\end{array}\\right)</script></html>"
      ],
      "text/plain": [
       "[1.00000000000000 2.00000000000000 3.00000000000000 6.00000000000000 7.00000000000000 8.00000000000000]\n",
       "[3.00000000000000 2.00000000000000 1.00000000000000 1.00000000000000 2.00000000000000 3.00000000000000]\n",
       "[1.00000000000000 1.00000000000000 1.00000000000000 8.00000000000000 6.00000000000000 5.00000000000000]\n",
       "[1.00000000000000 2.00000000000000 3.00000000000000 4.00000000000000 5.00000000000000 6.00000000000000]"
      ]
     },
     "metadata": {},
     "output_type": "display_data"
    },
    {
     "data": {
      "text/html": [
       "<html><script type=\"math/tex; mode=display\">\\newcommand{\\Bold}[1]{\\mathbf{#1}}0</script></html>"
      ],
      "text/plain": [
       "0"
      ]
     },
     "metadata": {},
     "output_type": "display_data"
    }
   ],
   "source": [
    "A = Matrix(RR,[[1,1,0,6,7,8],[3,0,1,1,2,3],[1,0,0,8,6,-5], [1,0,0,4,5,6]])\n",
    "show(A)\n",
    "ans = t_actualitzada(A, [1,2])\n",
    "show(ans)\n",
    "\n",
    "B = A = Matrix(RR,[[1,2,3,6,7,8],[3,2,1,1,2,3],[1,1,1,8,6,5], [1,2,3,4,5,6]])\n",
    "show(B)\n",
    "ans = t_actualitzada(A, [3,2])\n",
    "show(ans)"
   ]
  },
  {
   "cell_type": "markdown",
   "metadata": {},
   "source": [
    "EXERCICI 1(d):\n",
    "Una funció que donada una taula del símplex (tal com l’hem vist a l’assignatura, amb la\n",
    "funció objectiu com a darrera fila en forma (c1, . . . , cn| − c0) que ja estigui actualitzada\n",
    "completament a una base B ens digui quin criteri s’aplica. Ha de tenir com a arguments\n",
    "la taula i la base (B vector de m índexos), i ha de tornar quin criteri s’aplica."
   ]
  },
  {
   "cell_type": "code",
   "execution_count": 7,
   "metadata": {},
   "outputs": [],
   "source": [
    "def criteri(taula, indexos):\n",
    "    n = taula.nrows()\n",
    "    z = taula.row(n-1)\n",
    "    m = taula.ncols()\n",
    "    i = 0\n",
    "    for j in range(0,m):\n",
    "        if(z[j]>=0):\n",
    "            i+=1\n",
    "    if(i==m):\n",
    "        return \"criteri d'optimalitat\"\n",
    "    \n",
    "    for j in range(0,m):\n",
    "        if(z[j]<0):\n",
    "            col = taula.column(j)\n",
    "            for elem in col:\n",
    "                if (elem > 0):\n",
    "                    return \"criteri de millora\"\n",
    "            return \"criteri de no acotació\"\n",
    "            "
   ]
  },
  {
   "cell_type": "markdown",
   "metadata": {},
   "source": [
    "Exemple de funcionament de la funció:"
   ]
  },
  {
   "cell_type": "code",
   "execution_count": 8,
   "metadata": {},
   "outputs": [
    {
     "data": {
      "text/html": [
       "<html><script type=\"math/tex; mode=display\">\\newcommand{\\Bold}[1]{\\mathbf{#1}}\\left(\\begin{array}{rrrrrr}\n",
       "1.00000000000000 & 1.00000000000000 & 0.000000000000000 & 0.000000000000000 & 7.00000000000000 & 8.00000000000000 \\\\\n",
       "3.00000000000000 & 0.000000000000000 & 1.00000000000000 & 0.000000000000000 & 2.00000000000000 & 3.00000000000000 \\\\\n",
       "1.00000000000000 & 0.000000000000000 & 0.000000000000000 & 1.00000000000000 & 6.00000000000000 & -5.00000000000000 \\\\\n",
       "1.00000000000000 & 0.000000000000000 & 0.000000000000000 & 0.000000000000000 & 5.00000000000000 & 6.00000000000000\n",
       "\\end{array}\\right)</script></html>"
      ],
      "text/plain": [
       "[ 1.00000000000000  1.00000000000000 0.000000000000000 0.000000000000000  7.00000000000000  8.00000000000000]\n",
       "[ 3.00000000000000 0.000000000000000  1.00000000000000 0.000000000000000  2.00000000000000  3.00000000000000]\n",
       "[ 1.00000000000000 0.000000000000000 0.000000000000000  1.00000000000000  6.00000000000000 -5.00000000000000]\n",
       "[ 1.00000000000000 0.000000000000000 0.000000000000000 0.000000000000000  5.00000000000000  6.00000000000000]"
      ]
     },
     "metadata": {},
     "output_type": "display_data"
    },
    {
     "data": {
      "text/html": [
       "<html><script type=\"math/tex; mode=display\">\\newcommand{\\Bold}[1]{\\mathbf{#1}}\\verb|criteri|\\phantom{\\verb!x!}\\verb|d'optimalitat|</script></html>"
      ],
      "text/plain": [
       "\"criteri d'optimalitat\""
      ]
     },
     "metadata": {},
     "output_type": "display_data"
    },
    {
     "data": {
      "text/html": [
       "<html><script type=\"math/tex; mode=display\">\\newcommand{\\Bold}[1]{\\mathbf{#1}}\\left(\\begin{array}{rrrrrr}\n",
       "1.00000000000000 & 1.00000000000000 & 0.000000000000000 & 0.000000000000000 & 7.00000000000000 & 8.00000000000000 \\\\\n",
       "3.00000000000000 & 0.000000000000000 & 1.00000000000000 & 0.000000000000000 & 2.00000000000000 & 3.00000000000000 \\\\\n",
       "1.00000000000000 & 0.000000000000000 & 0.000000000000000 & 1.00000000000000 & 6.00000000000000 & -5.00000000000000 \\\\\n",
       "1.00000000000000 & 0.000000000000000 & 0.000000000000000 & 0.000000000000000 & -5.00000000000000 & 6.00000000000000\n",
       "\\end{array}\\right)</script></html>"
      ],
      "text/plain": [
       "[ 1.00000000000000  1.00000000000000 0.000000000000000 0.000000000000000  7.00000000000000  8.00000000000000]\n",
       "[ 3.00000000000000 0.000000000000000  1.00000000000000 0.000000000000000  2.00000000000000  3.00000000000000]\n",
       "[ 1.00000000000000 0.000000000000000 0.000000000000000  1.00000000000000  6.00000000000000 -5.00000000000000]\n",
       "[ 1.00000000000000 0.000000000000000 0.000000000000000 0.000000000000000 -5.00000000000000  6.00000000000000]"
      ]
     },
     "metadata": {},
     "output_type": "display_data"
    },
    {
     "data": {
      "text/html": [
       "<html><script type=\"math/tex; mode=display\">\\newcommand{\\Bold}[1]{\\mathbf{#1}}\\verb|criteri|\\phantom{\\verb!x!}\\verb|de|\\phantom{\\verb!x!}\\verb|millora|</script></html>"
      ],
      "text/plain": [
       "'criteri de millora'"
      ]
     },
     "metadata": {},
     "output_type": "display_data"
    },
    {
     "data": {
      "text/html": [
       "<html><script type=\"math/tex; mode=display\">\\newcommand{\\Bold}[1]{\\mathbf{#1}}\\left(\\begin{array}{rrrrrr}\n",
       "1.00000000000000 & 1.00000000000000 & 0.000000000000000 & 0.000000000000000 & -7.00000000000000 & 8.00000000000000 \\\\\n",
       "3.00000000000000 & 0.000000000000000 & 1.00000000000000 & 0.000000000000000 & 0.000000000000000 & 3.00000000000000 \\\\\n",
       "1.00000000000000 & 0.000000000000000 & 0.000000000000000 & 1.00000000000000 & -6.00000000000000 & -5.00000000000000 \\\\\n",
       "1.00000000000000 & 0.000000000000000 & 0.000000000000000 & 0.000000000000000 & -5.00000000000000 & 6.00000000000000\n",
       "\\end{array}\\right)</script></html>"
      ],
      "text/plain": [
       "[ 1.00000000000000  1.00000000000000 0.000000000000000 0.000000000000000 -7.00000000000000  8.00000000000000]\n",
       "[ 3.00000000000000 0.000000000000000  1.00000000000000 0.000000000000000 0.000000000000000  3.00000000000000]\n",
       "[ 1.00000000000000 0.000000000000000 0.000000000000000  1.00000000000000 -6.00000000000000 -5.00000000000000]\n",
       "[ 1.00000000000000 0.000000000000000 0.000000000000000 0.000000000000000 -5.00000000000000  6.00000000000000]"
      ]
     },
     "metadata": {},
     "output_type": "display_data"
    },
    {
     "data": {
      "text/html": [
       "<html><script type=\"math/tex; mode=display\">\\newcommand{\\Bold}[1]{\\mathbf{#1}}\\verb|criteri|\\phantom{\\verb!x!}\\verb|de|\\phantom{\\verb!x!}\\verb|no|\\phantom{\\verb!x!}\\verb|acotació|</script></html>"
      ],
      "text/plain": [
       "'criteri de no acotació'"
      ]
     },
     "metadata": {},
     "output_type": "display_data"
    }
   ],
   "source": [
    "A = Matrix(RR,[[1,1,0,0,7,8],[3,0,1,0,2,3],[1,0,0,1,6,-5], [1,0,0,0,5,6]])\n",
    "show(A)\n",
    "show(criteri(A,[1,2,3]))\n",
    "\n",
    "B = Matrix(RR,[[1,1,0,0,7,8],[3,0,1,0,2,3],[1,0,0,1,6,-5], [1,0,0,0,-5,6]])\n",
    "show(B)\n",
    "show(criteri(B,[1,2,3]))\n",
    "\n",
    "C = Matrix(RR,[[1,1,0,0,-7,8],[3,0,1,0,0,3],[1,0,0,1,-6,-5], [1,0,0,0,-5,6]])\n",
    "show(C)\n",
    "show(criteri(C,[1,2,3]))"
   ]
  },
  {
   "cell_type": "markdown",
   "metadata": {},
   "source": [
    "EXERCICI 1(e):\n",
    "Millora la funció anterior perquè\n",
    "• en cas del criteri de millora, la fila i la columna per les que pivotar;\n",
    "• en cas del criteri d’optimalitat, ens torni, a més, doni el punt optimal i el valor òptim\n",
    "de la funció objectiu."
   ]
  },
  {
   "cell_type": "code",
   "execution_count": 9,
   "metadata": {},
   "outputs": [],
   "source": [
    "def criteri_millorat(taula, indexos):\n",
    "    n = taula.nrows()\n",
    "    z = taula.row(n-1)\n",
    "    m = taula.ncols()\n",
    "    criteri = \"criteri d'optimalitat\"\n",
    "        \n",
    "    aux1=0\n",
    "    for j in range(0,m-1):\n",
    "        if(z[j]<0):\n",
    "            col = taula.column(j)\n",
    "            for elem in col:\n",
    "                if (elem > 0):\n",
    "                    criteri = \"criteri de millora\"\n",
    "                    aux1=1\n",
    "            if(aux1==0):\n",
    "                criteri = \"criteri de no acotació\"\n",
    "                return criteri\n",
    "    \n",
    "    if (criteri == \"criteri d'optimalitat\"):\n",
    "        #n --> files, m --> columnes\n",
    "        valor = taula[n-1][m-1]\n",
    "        valor = -valor\n",
    "        show(\"Valor òptim de la funció objectiu --> \", valor)\n",
    "        punt = []\n",
    "        for col in range(0,m-1):\n",
    "            punt.append(0)\n",
    "        punts = taula.column(-1)\n",
    "        taula_tras = taula.transpose()\n",
    "        for index in indexos:    \n",
    "            for posicio,u in enumerate(taula_tras[index]): #per saber quin valor de (punts) cal col·locar\n",
    "                if u == 1:\n",
    "                    if punt[index] == 0:\n",
    "                        punt[index]+= punts[posicio]\n",
    "        \n",
    "        show(\"Punt optimal --> \",punt)\n",
    "        return criteri, valor, punt\n",
    "        \n",
    "    elif (criteri == \"criteri de millora\"):\n",
    "        m -= 1\n",
    "        index_bo = 0\n",
    "        for col in range(0,m):\n",
    "            if(z[col]<0):\n",
    "                index_bo = col\n",
    "                columna_pivot = taula.column(index_bo)\n",
    "                break\n",
    "        results = taula.column(-1)\n",
    "\n",
    "        long = len(results)-1\n",
    "\n",
    "        minim = 1000000000\n",
    "        fila_pivot=0\n",
    "        for posicio in range(0,long):\n",
    "            if(columna_pivot[posicio]>0):\n",
    "                if(results[posicio]/columna_pivot[posicio] < minim):\n",
    "                    minim = results[posicio]/columna_pivot[posicio]\n",
    "                    fila_pivot=posicio\n",
    "\n",
    "        \n",
    "        show(\"Cal pivotar a la fila \", fila_pivot, \" i a la columna \", index_bo)   \n",
    "        return criteri, fila_pivot, index_bo"
   ]
  },
  {
   "cell_type": "markdown",
   "metadata": {},
   "source": [
    "Exemple de funcionament de la funció:"
   ]
  },
  {
   "cell_type": "code",
   "execution_count": 10,
   "metadata": {},
   "outputs": [
    {
     "data": {
      "text/html": [
       "<html><script type=\"math/tex; mode=display\">\\newcommand{\\Bold}[1]{\\mathbf{#1}}3</script></html>"
      ],
      "text/plain": [
       "3"
      ]
     },
     "metadata": {},
     "output_type": "display_data"
    },
    {
     "data": {
      "text/html": [
       "<html><script type=\"math/tex; mode=display\">\\newcommand{\\Bold}[1]{\\mathbf{#1}}\\left(\\begin{array}{rrrr}\n",
       "0.600000000000000 & 0.000000000000000 & 1.00000000000000 & 1.80000000000000 \\\\\n",
       "0.800000000000000 & 1.00000000000000 & 0.000000000000000 & 0.400000000000000 \\\\\n",
       "2.60000000000000 & 0.000000000000000 & 0.000000000000000 & -2.20000000000000\n",
       "\\end{array}\\right)</script></html>"
      ],
      "text/plain": [
       "[0.600000000000000 0.000000000000000  1.00000000000000  1.80000000000000]\n",
       "[0.800000000000000  1.00000000000000 0.000000000000000 0.400000000000000]\n",
       "[ 2.60000000000000 0.000000000000000 0.000000000000000 -2.20000000000000]"
      ]
     },
     "metadata": {},
     "output_type": "display_data"
    },
    {
     "data": {
      "text/html": [
       "<html><script type=\"math/tex; mode=display\">\\newcommand{\\Bold}[1]{\\mathbf{#1}}\\left(2.60000000000000,\\,0.000000000000000,\\,0.000000000000000,\\,-2.20000000000000\\right)</script></html>"
      ],
      "text/plain": [
       "(2.60000000000000, 0.000000000000000, 0.000000000000000, -2.20000000000000)"
      ]
     },
     "metadata": {},
     "output_type": "display_data"
    },
    {
     "data": {
      "text/html": [
       "<html><script type=\"math/tex; mode=display\">\\newcommand{\\Bold}[1]{\\mathbf{#1}}\\verb|Valor|\\phantom{\\verb!x!}\\verb|òptim|\\phantom{\\verb!x!}\\verb|de|\\phantom{\\verb!x!}\\verb|la|\\phantom{\\verb!x!}\\verb|funció|\\phantom{\\verb!x!}\\verb|objectiu|\\phantom{\\verb!x!}\\verb|-->| 2.20000000000000</script></html>"
      ],
      "text/plain": [
       "'Valor òptim de la funció objectiu --> ' 2.20000000000000"
      ]
     },
     "metadata": {},
     "output_type": "display_data"
    },
    {
     "data": {
      "text/html": [
       "<html><script type=\"math/tex; mode=display\">\\newcommand{\\Bold}[1]{\\mathbf{#1}}\\verb|Punt|\\phantom{\\verb!x!}\\verb|optimal|\\phantom{\\verb!x!}\\verb|-->| \\left[0, 0.400000000000000, 1.80000000000000\\right]</script></html>"
      ],
      "text/plain": [
       "'Punt optimal --> ' [0, 0.400000000000000, 1.80000000000000]"
      ]
     },
     "metadata": {},
     "output_type": "display_data"
    },
    {
     "data": {
      "text/html": [
       "<html><script type=\"math/tex; mode=display\">\\newcommand{\\Bold}[1]{\\mathbf{#1}}\\left(\\verb|criteri|\\phantom{\\verb!x!}\\verb|d'optimalitat|, 2.20000000000000, \\left[0, 0.400000000000000, 1.80000000000000\\right]\\right)</script></html>"
      ],
      "text/plain": [
       "(\"criteri d'optimalitat\",\n",
       " 2.20000000000000,\n",
       " [0, 0.400000000000000, 1.80000000000000])"
      ]
     },
     "metadata": {},
     "output_type": "display_data"
    }
   ],
   "source": [
    "B = Matrix(RR, [[3/5,0,1,9/5],[4/5,1,0,2/5],[13/5,0,0,-11/5]])\n",
    "n = B.nrows()\n",
    "z = B.row(n-1)\n",
    "show(n)\n",
    "show(B)\n",
    "show(z)\n",
    "show(criteri_millorat(B,[1,2]))"
   ]
  },
  {
   "cell_type": "code",
   "execution_count": 11,
   "metadata": {},
   "outputs": [
    {
     "data": {
      "text/html": [
       "<html><script type=\"math/tex; mode=display\">\\newcommand{\\Bold}[1]{\\mathbf{#1}}\\left(\\begin{array}{rrrrrr}\n",
       "1.00000000000000 & 1.00000000000000 & 0.000000000000000 & 0.000000000000000 & 7.00000000000000 & 8.00000000000000 \\\\\n",
       "3.00000000000000 & 0.000000000000000 & 1.00000000000000 & 0.000000000000000 & 2.00000000000000 & 3.00000000000000 \\\\\n",
       "1.00000000000000 & 0.000000000000000 & 0.000000000000000 & 1.00000000000000 & 6.00000000000000 & -5.00000000000000 \\\\\n",
       "1.00000000000000 & 0.000000000000000 & 0.000000000000000 & 0.000000000000000 & 5.00000000000000 & 6.00000000000000\n",
       "\\end{array}\\right)</script></html>"
      ],
      "text/plain": [
       "[ 1.00000000000000  1.00000000000000 0.000000000000000 0.000000000000000  7.00000000000000  8.00000000000000]\n",
       "[ 3.00000000000000 0.000000000000000  1.00000000000000 0.000000000000000  2.00000000000000  3.00000000000000]\n",
       "[ 1.00000000000000 0.000000000000000 0.000000000000000  1.00000000000000  6.00000000000000 -5.00000000000000]\n",
       "[ 1.00000000000000 0.000000000000000 0.000000000000000 0.000000000000000  5.00000000000000  6.00000000000000]"
      ]
     },
     "metadata": {},
     "output_type": "display_data"
    },
    {
     "data": {
      "text/html": [
       "<html><script type=\"math/tex; mode=display\">\\newcommand{\\Bold}[1]{\\mathbf{#1}}\\verb|Valor|\\phantom{\\verb!x!}\\verb|òptim|\\phantom{\\verb!x!}\\verb|de|\\phantom{\\verb!x!}\\verb|la|\\phantom{\\verb!x!}\\verb|funció|\\phantom{\\verb!x!}\\verb|objectiu|\\phantom{\\verb!x!}\\verb|-->| -6.00000000000000</script></html>"
      ],
      "text/plain": [
       "'Valor òptim de la funció objectiu --> ' -6.00000000000000"
      ]
     },
     "metadata": {},
     "output_type": "display_data"
    },
    {
     "data": {
      "text/html": [
       "<html><script type=\"math/tex; mode=display\">\\newcommand{\\Bold}[1]{\\mathbf{#1}}\\verb|Punt|\\phantom{\\verb!x!}\\verb|optimal|\\phantom{\\verb!x!}\\verb|-->| \\left[0, 8.00000000000000, 3.00000000000000, -5.00000000000000, 0\\right]</script></html>"
      ],
      "text/plain": [
       "'Punt optimal --> ' [0, 8.00000000000000, 3.00000000000000, -5.00000000000000, 0]"
      ]
     },
     "metadata": {},
     "output_type": "display_data"
    },
    {
     "data": {
      "text/html": [
       "<html><script type=\"math/tex; mode=display\">\\newcommand{\\Bold}[1]{\\mathbf{#1}}\\left(\\verb|criteri|\\phantom{\\verb!x!}\\verb|d'optimalitat|, -6.00000000000000, \\left[0, 8.00000000000000, 3.00000000000000, -5.00000000000000, 0\\right]\\right)</script></html>"
      ],
      "text/plain": [
       "(\"criteri d'optimalitat\",\n",
       " -6.00000000000000,\n",
       " [0, 8.00000000000000, 3.00000000000000, -5.00000000000000, 0])"
      ]
     },
     "metadata": {},
     "output_type": "display_data"
    },
    {
     "data": {
      "text/html": [
       "<html><script type=\"math/tex; mode=display\">\\newcommand{\\Bold}[1]{\\mathbf{#1}}\\left(\\begin{array}{rrrrrrr}\n",
       "1.00000000000000 & 2.00000000000000 & 0.000000000000000 & 1.00000000000000 & 0.000000000000000 & 0.000000000000000 & 4.00000000000000 \\\\\n",
       "0.000000000000000 & 2.00000000000000 & 3.00000000000000 & 0.000000000000000 & 1.00000000000000 & 0.000000000000000 & 6.00000000000000 \\\\\n",
       "2.00000000000000 & 1.00000000000000 & 2.00000000000000 & 0.000000000000000 & 0.000000000000000 & 1.00000000000000 & 10.0000000000000 \\\\\n",
       "0.000000000000000 & 0.000000000000000 & 0.000000000000000 & 1.00000000000000 & 1.00000000000000 & -1.00000000000000 & 0.000000000000000\n",
       "\\end{array}\\right)</script></html>"
      ],
      "text/plain": [
       "[ 1.00000000000000  2.00000000000000 0.000000000000000  1.00000000000000 0.000000000000000 0.000000000000000  4.00000000000000]\n",
       "[0.000000000000000  2.00000000000000  3.00000000000000 0.000000000000000  1.00000000000000 0.000000000000000  6.00000000000000]\n",
       "[ 2.00000000000000  1.00000000000000  2.00000000000000 0.000000000000000 0.000000000000000  1.00000000000000  10.0000000000000]\n",
       "[0.000000000000000 0.000000000000000 0.000000000000000  1.00000000000000  1.00000000000000 -1.00000000000000 0.000000000000000]"
      ]
     },
     "metadata": {},
     "output_type": "display_data"
    },
    {
     "data": {
      "text/html": [
       "<html><script type=\"math/tex; mode=display\">\\newcommand{\\Bold}[1]{\\mathbf{#1}}\\verb|Cal|\\phantom{\\verb!x!}\\verb|pivotar|\\phantom{\\verb!x!}\\verb|a|\\phantom{\\verb!x!}\\verb|la|\\phantom{\\verb!x!}\\verb|fila| 2 \\phantom{\\verb!x!}\\verb|i|\\phantom{\\verb!x!}\\verb|a|\\phantom{\\verb!x!}\\verb|la|\\phantom{\\verb!x!}\\verb|columna| 5</script></html>"
      ],
      "text/plain": [
       "'Cal pivotar a la fila ' 2 ' i a la columna ' 5"
      ]
     },
     "metadata": {},
     "output_type": "display_data"
    },
    {
     "data": {
      "text/html": [
       "<html><script type=\"math/tex; mode=display\">\\newcommand{\\Bold}[1]{\\mathbf{#1}}\\left(\\verb|criteri|\\phantom{\\verb!x!}\\verb|de|\\phantom{\\verb!x!}\\verb|millora|, 2, 5\\right)</script></html>"
      ],
      "text/plain": [
       "('criteri de millora', 2, 5)"
      ]
     },
     "metadata": {},
     "output_type": "display_data"
    }
   ],
   "source": [
    "A = Matrix(RR,[[1,1,0,0,7,8],[3,0,1,0,2,3],[1,0,0,1,6,-5], [1,0,0,0,5,6]])\n",
    "show(A)\n",
    "show(criteri_millorat(A,[1,2,3]))\n",
    "\n",
    "taula = Matrix(RR, [[1,2,0,1,0,0,4], [0,2,3,0,1,0,6],[2,1,2,0,0,1,10], [0,0,0,1,1,-1,0]])\n",
    "show(taula)\n",
    "ret = criteri_millorat(taula, [2,3])\n",
    "show(ret)"
   ]
  },
  {
   "cell_type": "markdown",
   "metadata": {},
   "source": [
    "EXERCICI 2:\n",
    "Utilitza totes les funcions, a més de les que tu creguis que has de definir, per implementar el\n",
    "mètode del símplex fase II, construint una funció que tingui com a arguments una taula del\n",
    "símplex actualitzada a una base B i la base B i tingui com a sortida el missatge “no acotada”\n",
    "si es tracta d’un problema no acotat i, en cas que tingui òptim, el punt optimal i el valor\n",
    "mínim de la funció objectiu."
   ]
  },
  {
   "cell_type": "code",
   "execution_count": 12,
   "metadata": {},
   "outputs": [],
   "source": [
    "def faseII(taula, indexos):\n",
    "    criteri = criteri_millorat(taula, indexos)\n",
    "    #vector amb la posició del pivot\n",
    "    while(criteri[0] == \"criteri de millora\"):\n",
    "        taula = pivota(taula, criteri[1], criteri[2])\n",
    "        n = taula.nrows()\n",
    "        iden = matrix.identity(n)\n",
    "        indexos = []\n",
    "        m = taula.ncols()\n",
    "        for index_col in range(0,m):\n",
    "            if(taula.column(index_col) in iden):\n",
    "                indexos.append(index_col)\n",
    "        show(taula)\n",
    "        show(indexos)\n",
    "        criteri = criteri_millorat(taula, indexos)\n",
    "        show(criteri)\n",
    "        \n",
    "    if(criteri[0] == \"criteri de no acotació\"):\n",
    "        return \"no acotada\"\n",
    "    #optimalitat ja mostra el punt i valor per pantalla\n",
    "    return taula"
   ]
  },
  {
   "cell_type": "markdown",
   "metadata": {},
   "source": [
    "Exemple de funcionament de la funció:"
   ]
  },
  {
   "cell_type": "code",
   "execution_count": 13,
   "metadata": {},
   "outputs": [
    {
     "data": {
      "text/html": [
       "<html><script type=\"math/tex; mode=display\">\\newcommand{\\Bold}[1]{\\mathbf{#1}}\\left(\\begin{array}{rrrr}\n",
       "0.000000000000000 & -0.750000000000000 & 1.00000000000000 & 1.50000000000000 \\\\\n",
       "1.00000000000000 & 1.25000000000000 & 0.000000000000000 & 0.500000000000000 \\\\\n",
       "0.000000000000000 & -3.25000000000000 & 0.000000000000000 & -3.50000000000000\n",
       "\\end{array}\\right)</script></html>"
      ],
      "text/plain": [
       "[ 0.000000000000000 -0.750000000000000   1.00000000000000   1.50000000000000]\n",
       "[  1.00000000000000   1.25000000000000  0.000000000000000  0.500000000000000]\n",
       "[ 0.000000000000000  -3.25000000000000  0.000000000000000  -3.50000000000000]"
      ]
     },
     "metadata": {},
     "output_type": "display_data"
    },
    {
     "data": {
      "text/html": [
       "<html><script type=\"math/tex; mode=display\">\\newcommand{\\Bold}[1]{\\mathbf{#1}}\\verb|Cal|\\phantom{\\verb!x!}\\verb|pivotar|\\phantom{\\verb!x!}\\verb|a|\\phantom{\\verb!x!}\\verb|la|\\phantom{\\verb!x!}\\verb|fila| 1 \\phantom{\\verb!x!}\\verb|i|\\phantom{\\verb!x!}\\verb|a|\\phantom{\\verb!x!}\\verb|la|\\phantom{\\verb!x!}\\verb|columna| 1</script></html>"
      ],
      "text/plain": [
       "'Cal pivotar a la fila ' 1 ' i a la columna ' 1"
      ]
     },
     "metadata": {},
     "output_type": "display_data"
    },
    {
     "data": {
      "text/html": [
       "<html><script type=\"math/tex; mode=display\">\\newcommand{\\Bold}[1]{\\mathbf{#1}}\\left(\\begin{array}{rrrr}\n",
       "0.600000000000000 & 0.000000000000000 & 1.00000000000000 & 1.80000000000000 \\\\\n",
       "0.800000000000000 & 1.00000000000000 & 0.000000000000000 & 0.400000000000000 \\\\\n",
       "2.60000000000000 & 0.000000000000000 & 0.000000000000000 & -2.20000000000000\n",
       "\\end{array}\\right)</script></html>"
      ],
      "text/plain": [
       "[0.600000000000000 0.000000000000000  1.00000000000000  1.80000000000000]\n",
       "[0.800000000000000  1.00000000000000 0.000000000000000 0.400000000000000]\n",
       "[ 2.60000000000000 0.000000000000000 0.000000000000000 -2.20000000000000]"
      ]
     },
     "metadata": {},
     "output_type": "display_data"
    },
    {
     "data": {
      "text/html": [
       "<html><script type=\"math/tex; mode=display\">\\newcommand{\\Bold}[1]{\\mathbf{#1}}\\left[1, 2\\right]</script></html>"
      ],
      "text/plain": [
       "[1, 2]"
      ]
     },
     "metadata": {},
     "output_type": "display_data"
    },
    {
     "data": {
      "text/html": [
       "<html><script type=\"math/tex; mode=display\">\\newcommand{\\Bold}[1]{\\mathbf{#1}}\\verb|Valor|\\phantom{\\verb!x!}\\verb|òptim|\\phantom{\\verb!x!}\\verb|de|\\phantom{\\verb!x!}\\verb|la|\\phantom{\\verb!x!}\\verb|funció|\\phantom{\\verb!x!}\\verb|objectiu|\\phantom{\\verb!x!}\\verb|-->| 2.20000000000000</script></html>"
      ],
      "text/plain": [
       "'Valor òptim de la funció objectiu --> ' 2.20000000000000"
      ]
     },
     "metadata": {},
     "output_type": "display_data"
    },
    {
     "data": {
      "text/html": [
       "<html><script type=\"math/tex; mode=display\">\\newcommand{\\Bold}[1]{\\mathbf{#1}}\\verb|Punt|\\phantom{\\verb!x!}\\verb|optimal|\\phantom{\\verb!x!}\\verb|-->| \\left[0, 0.400000000000000, 1.80000000000000\\right]</script></html>"
      ],
      "text/plain": [
       "'Punt optimal --> ' [0, 0.400000000000000, 1.80000000000000]"
      ]
     },
     "metadata": {},
     "output_type": "display_data"
    },
    {
     "data": {
      "text/html": [
       "<html><script type=\"math/tex; mode=display\">\\newcommand{\\Bold}[1]{\\mathbf{#1}}\\left(\\verb|criteri|\\phantom{\\verb!x!}\\verb|d'optimalitat|, 2.20000000000000, \\left[0, 0.400000000000000, 1.80000000000000\\right]\\right)</script></html>"
      ],
      "text/plain": [
       "(\"criteri d'optimalitat\",\n",
       " 2.20000000000000,\n",
       " [0, 0.400000000000000, 1.80000000000000])"
      ]
     },
     "metadata": {},
     "output_type": "display_data"
    }
   ],
   "source": [
    "B = Matrix(RR, [[0,-3/4,1,3/2],[1,5/4,0,1/2],[4,1,1,0]])\n",
    "B = pivota(B, 1,0)\n",
    "B = pivota(B, 0,2)\n",
    "show(B)\n",
    "B = faseII(B,[2,0])"
   ]
  },
  {
   "cell_type": "code",
   "execution_count": 43,
   "metadata": {},
   "outputs": [
    {
     "data": {
      "text/html": [
       "<html><script type=\"math/tex; mode=display\">\\newcommand{\\Bold}[1]{\\mathbf{#1}}\\verb|Valor|\\phantom{\\verb!x!}\\verb|òptim|\\phantom{\\verb!x!}\\verb|de|\\phantom{\\verb!x!}\\verb|la|\\phantom{\\verb!x!}\\verb|funció|\\phantom{\\verb!x!}\\verb|objectiu|\\phantom{\\verb!x!}\\verb|-->| -6.00000000000000</script></html>"
      ],
      "text/plain": [
       "'Valor òptim de la funció objectiu --> ' -6.00000000000000"
      ]
     },
     "metadata": {},
     "output_type": "display_data"
    },
    {
     "data": {
      "text/html": [
       "<html><script type=\"math/tex; mode=display\">\\newcommand{\\Bold}[1]{\\mathbf{#1}}\\verb|Punt|\\phantom{\\verb!x!}\\verb|optimal|\\phantom{\\verb!x!}\\verb|-->| \\left[0, 8.00000000000000, 3.00000000000000, -5.00000000000000, 0\\right]</script></html>"
      ],
      "text/plain": [
       "'Punt optimal --> ' [0, 8.00000000000000, 3.00000000000000, -5.00000000000000, 0]"
      ]
     },
     "metadata": {},
     "output_type": "display_data"
    },
    {
     "data": {
      "text/html": [
       "<html><script type=\"math/tex; mode=display\">\\newcommand{\\Bold}[1]{\\mathbf{#1}}\\left(\\begin{array}{rrrrrr}\n",
       "1.00000000000000 & 1.00000000000000 & 0.000000000000000 & 0.000000000000000 & 7.00000000000000 & 8.00000000000000 \\\\\n",
       "3.00000000000000 & 0.000000000000000 & 1.00000000000000 & 0.000000000000000 & 2.00000000000000 & 3.00000000000000 \\\\\n",
       "1.00000000000000 & 0.000000000000000 & 0.000000000000000 & 1.00000000000000 & 6.00000000000000 & -5.00000000000000 \\\\\n",
       "1.00000000000000 & 0.000000000000000 & 0.000000000000000 & 0.000000000000000 & 5.00000000000000 & 6.00000000000000\n",
       "\\end{array}\\right)</script></html>"
      ],
      "text/plain": [
       "[ 1.00000000000000  1.00000000000000 0.000000000000000 0.000000000000000  7.00000000000000  8.00000000000000]\n",
       "[ 3.00000000000000 0.000000000000000  1.00000000000000 0.000000000000000  2.00000000000000  3.00000000000000]\n",
       "[ 1.00000000000000 0.000000000000000 0.000000000000000  1.00000000000000  6.00000000000000 -5.00000000000000]\n",
       "[ 1.00000000000000 0.000000000000000 0.000000000000000 0.000000000000000  5.00000000000000  6.00000000000000]"
      ]
     },
     "metadata": {},
     "output_type": "display_data"
    }
   ],
   "source": [
    "A = Matrix(RR,[[1,1,0,0,7,8],[3,0,1,0,2,3],[1,0,0,1,6,-5], [1,0,0,0,5,6]])\n",
    "a = faseII(A,[1,2,3])\n",
    "show(a)"
   ]
  },
  {
   "cell_type": "markdown",
   "metadata": {},
   "source": [
    "EXERCICI 3:\n",
    "Utilitza les funcions que hagis construït (encara que no siguin totes) per resoldre els dos primers\n",
    "apartats de l’exercici 5 i tot l’exercici 6 de la llista 2 de problemes."
   ]
  },
  {
   "cell_type": "markdown",
   "metadata": {},
   "source": [
    "EXERCICI 5:"
   ]
  },
  {
   "cell_type": "code",
   "execution_count": 15,
   "metadata": {},
   "outputs": [
    {
     "data": {
      "text/html": [
       "<html><script type=\"math/tex; mode=display\">\\newcommand{\\Bold}[1]{\\mathbf{#1}}\\left(\\begin{array}{rrrrrrr}\n",
       "3.00000000000000 & -1.00000000000000 & 2.00000000000000 & 1.00000000000000 & 0.000000000000000 & 0.000000000000000 & 7.00000000000000 \\\\\n",
       "-2.00000000000000 & 4.00000000000000 & 0.000000000000000 & 0.000000000000000 & 1.00000000000000 & 0.000000000000000 & 12.0000000000000 \\\\\n",
       "-4.00000000000000 & 3.00000000000000 & 8.00000000000000 & 0.000000000000000 & 0.000000000000000 & 1.00000000000000 & 10.0000000000000 \\\\\n",
       "1.00000000000000 & -3.00000000000000 & 2.00000000000000 & 0.000000000000000 & 0.000000000000000 & 0.000000000000000 & 0.000000000000000\n",
       "\\end{array}\\right)</script></html>"
      ],
      "text/plain": [
       "[ 3.00000000000000 -1.00000000000000  2.00000000000000  1.00000000000000 0.000000000000000 0.000000000000000  7.00000000000000]\n",
       "[-2.00000000000000  4.00000000000000 0.000000000000000 0.000000000000000  1.00000000000000 0.000000000000000  12.0000000000000]\n",
       "[-4.00000000000000  3.00000000000000  8.00000000000000 0.000000000000000 0.000000000000000  1.00000000000000  10.0000000000000]\n",
       "[ 1.00000000000000 -3.00000000000000  2.00000000000000 0.000000000000000 0.000000000000000 0.000000000000000 0.000000000000000]"
      ]
     },
     "metadata": {},
     "output_type": "display_data"
    }
   ],
   "source": [
    "#Exercici 5 a\n",
    "# i) posar el sistema en forma estandar:\n",
    "var('x1', 'x2', 'x3', 'x4', 'x5', 'x6')\n",
    "objectiu = x1 - 3*x2 + 2*x3\n",
    "restr1 = 3*x1 -x2 +2*x3 + x4 == 7\n",
    "restr2 = -2*x1 + 4*x2 +x5 == 12\n",
    "restr3 = -4*x1 + 3*x2 + 8*x3 +x6 == 10\n",
    "restr4 = x1 >= 0\n",
    "restr5 = x2 >= 0\n",
    "restr6 = x3 >= 0\n",
    "restr7 = x4 >= 0\n",
    "restr8 = x5 >= 0\n",
    "restr9 = x6 >= 0\n",
    "\n",
    "#la matriu del sistema seria la següent:\n",
    "A = Matrix(RR, [[3,-1,2,1,0,0,7],[-2,4,0,0,1,0,12],[-4,3,8,0,0,1,10],[1,-3,2,0,0,0,0]])\n",
    "show(A)\n",
    "#On la última columna son els termes independents\n",
    "#On la última fila és la funció objectiu"
   ]
  },
  {
   "cell_type": "code",
   "execution_count": 16,
   "metadata": {},
   "outputs": [
    {
     "data": {
      "text/html": [
       "<html><script type=\"math/tex; mode=display\">\\newcommand{\\Bold}[1]{\\mathbf{#1}}\\verb|Cal|\\phantom{\\verb!x!}\\verb|pivotar|\\phantom{\\verb!x!}\\verb|a|\\phantom{\\verb!x!}\\verb|la|\\phantom{\\verb!x!}\\verb|fila| 1 \\phantom{\\verb!x!}\\verb|i|\\phantom{\\verb!x!}\\verb|a|\\phantom{\\verb!x!}\\verb|la|\\phantom{\\verb!x!}\\verb|columna| 1</script></html>"
      ],
      "text/plain": [
       "'Cal pivotar a la fila ' 1 ' i a la columna ' 1"
      ]
     },
     "metadata": {},
     "output_type": "display_data"
    },
    {
     "data": {
      "text/html": [
       "<html><script type=\"math/tex; mode=display\">\\newcommand{\\Bold}[1]{\\mathbf{#1}}\\left(\\begin{array}{rrrrrrr}\n",
       "2.50000000000000 & 0.000000000000000 & 2.00000000000000 & 1.00000000000000 & 0.250000000000000 & 0.000000000000000 & 10.0000000000000 \\\\\n",
       "-0.500000000000000 & 1.00000000000000 & 0.000000000000000 & 0.000000000000000 & 0.250000000000000 & 0.000000000000000 & 3.00000000000000 \\\\\n",
       "-2.50000000000000 & 0.000000000000000 & 8.00000000000000 & 0.000000000000000 & -0.750000000000000 & 1.00000000000000 & 1.00000000000000 \\\\\n",
       "-0.500000000000000 & 0.000000000000000 & 2.00000000000000 & 0.000000000000000 & 0.750000000000000 & 0.000000000000000 & 9.00000000000000\n",
       "\\end{array}\\right)</script></html>"
      ],
      "text/plain": [
       "[  2.50000000000000  0.000000000000000   2.00000000000000   1.00000000000000  0.250000000000000  0.000000000000000   10.0000000000000]\n",
       "[-0.500000000000000   1.00000000000000  0.000000000000000  0.000000000000000  0.250000000000000  0.000000000000000   3.00000000000000]\n",
       "[ -2.50000000000000  0.000000000000000   8.00000000000000  0.000000000000000 -0.750000000000000   1.00000000000000   1.00000000000000]\n",
       "[-0.500000000000000  0.000000000000000   2.00000000000000  0.000000000000000  0.750000000000000  0.000000000000000   9.00000000000000]"
      ]
     },
     "metadata": {},
     "output_type": "display_data"
    },
    {
     "data": {
      "text/html": [
       "<html><script type=\"math/tex; mode=display\">\\newcommand{\\Bold}[1]{\\mathbf{#1}}\\left[1, 3, 5\\right]</script></html>"
      ],
      "text/plain": [
       "[1, 3, 5]"
      ]
     },
     "metadata": {},
     "output_type": "display_data"
    },
    {
     "data": {
      "text/html": [
       "<html><script type=\"math/tex; mode=display\">\\newcommand{\\Bold}[1]{\\mathbf{#1}}\\verb|Cal|\\phantom{\\verb!x!}\\verb|pivotar|\\phantom{\\verb!x!}\\verb|a|\\phantom{\\verb!x!}\\verb|la|\\phantom{\\verb!x!}\\verb|fila| 0 \\phantom{\\verb!x!}\\verb|i|\\phantom{\\verb!x!}\\verb|a|\\phantom{\\verb!x!}\\verb|la|\\phantom{\\verb!x!}\\verb|columna| 0</script></html>"
      ],
      "text/plain": [
       "'Cal pivotar a la fila ' 0 ' i a la columna ' 0"
      ]
     },
     "metadata": {},
     "output_type": "display_data"
    },
    {
     "data": {
      "text/html": [
       "<html><script type=\"math/tex; mode=display\">\\newcommand{\\Bold}[1]{\\mathbf{#1}}\\left(\\verb|criteri|\\phantom{\\verb!x!}\\verb|de|\\phantom{\\verb!x!}\\verb|millora|, 0, 0\\right)</script></html>"
      ],
      "text/plain": [
       "('criteri de millora', 0, 0)"
      ]
     },
     "metadata": {},
     "output_type": "display_data"
    },
    {
     "data": {
      "text/html": [
       "<html><script type=\"math/tex; mode=display\">\\newcommand{\\Bold}[1]{\\mathbf{#1}}\\left(\\begin{array}{rrrrrrr}\n",
       "1.00000000000000 & 0.000000000000000 & 0.800000000000000 & 0.400000000000000 & 0.100000000000000 & 0.000000000000000 & 4.00000000000000 \\\\\n",
       "0.000000000000000 & 1.00000000000000 & 0.400000000000000 & 0.200000000000000 & 0.300000000000000 & 0.000000000000000 & 5.00000000000000 \\\\\n",
       "0.000000000000000 & 0.000000000000000 & 10.0000000000000 & 1.00000000000000 & -0.500000000000000 & 1.00000000000000 & 11.0000000000000 \\\\\n",
       "0.000000000000000 & 0.000000000000000 & 2.40000000000000 & 0.200000000000000 & 0.800000000000000 & 0.000000000000000 & 11.0000000000000\n",
       "\\end{array}\\right)</script></html>"
      ],
      "text/plain": [
       "[  1.00000000000000  0.000000000000000  0.800000000000000  0.400000000000000  0.100000000000000  0.000000000000000   4.00000000000000]\n",
       "[ 0.000000000000000   1.00000000000000  0.400000000000000  0.200000000000000  0.300000000000000  0.000000000000000   5.00000000000000]\n",
       "[ 0.000000000000000  0.000000000000000   10.0000000000000   1.00000000000000 -0.500000000000000   1.00000000000000   11.0000000000000]\n",
       "[ 0.000000000000000  0.000000000000000   2.40000000000000  0.200000000000000  0.800000000000000  0.000000000000000   11.0000000000000]"
      ]
     },
     "metadata": {},
     "output_type": "display_data"
    },
    {
     "data": {
      "text/html": [
       "<html><script type=\"math/tex; mode=display\">\\newcommand{\\Bold}[1]{\\mathbf{#1}}\\left[0, 1, 5\\right]</script></html>"
      ],
      "text/plain": [
       "[0, 1, 5]"
      ]
     },
     "metadata": {},
     "output_type": "display_data"
    },
    {
     "data": {
      "text/html": [
       "<html><script type=\"math/tex; mode=display\">\\newcommand{\\Bold}[1]{\\mathbf{#1}}\\verb|Valor|\\phantom{\\verb!x!}\\verb|òptim|\\phantom{\\verb!x!}\\verb|de|\\phantom{\\verb!x!}\\verb|la|\\phantom{\\verb!x!}\\verb|funció|\\phantom{\\verb!x!}\\verb|objectiu|\\phantom{\\verb!x!}\\verb|-->| -11.0000000000000</script></html>"
      ],
      "text/plain": [
       "'Valor òptim de la funció objectiu --> ' -11.0000000000000"
      ]
     },
     "metadata": {},
     "output_type": "display_data"
    },
    {
     "data": {
      "text/html": [
       "<html><script type=\"math/tex; mode=display\">\\newcommand{\\Bold}[1]{\\mathbf{#1}}\\verb|Punt|\\phantom{\\verb!x!}\\verb|optimal|\\phantom{\\verb!x!}\\verb|-->| \\left[4.00000000000000, 5.00000000000000, 0, 0, 0, 11.0000000000000\\right]</script></html>"
      ],
      "text/plain": [
       "'Punt optimal --> ' [4.00000000000000, 5.00000000000000, 0, 0, 0, 11.0000000000000]"
      ]
     },
     "metadata": {},
     "output_type": "display_data"
    },
    {
     "data": {
      "text/html": [
       "<html><script type=\"math/tex; mode=display\">\\newcommand{\\Bold}[1]{\\mathbf{#1}}\\left(\\verb|criteri|\\phantom{\\verb!x!}\\verb|d'optimalitat|, -11.0000000000000, \\left[4.00000000000000, 5.00000000000000, 0, 0, 0, 11.0000000000000\\right]\\right)</script></html>"
      ],
      "text/plain": [
       "(\"criteri d'optimalitat\",\n",
       " -11.0000000000000,\n",
       " [4.00000000000000, 5.00000000000000, 0, 0, 0, 11.0000000000000])"
      ]
     },
     "metadata": {},
     "output_type": "display_data"
    },
    {
     "data": {
      "text/html": [
       "<html><script type=\"math/tex; mode=display\">\\newcommand{\\Bold}[1]{\\mathbf{#1}}\\left(\\begin{array}{rrrrrrr}\n",
       "1.00000000000000 & 0.000000000000000 & 0.800000000000000 & 0.400000000000000 & 0.100000000000000 & 0.000000000000000 & 4.00000000000000 \\\\\n",
       "0.000000000000000 & 1.00000000000000 & 0.400000000000000 & 0.200000000000000 & 0.300000000000000 & 0.000000000000000 & 5.00000000000000 \\\\\n",
       "0.000000000000000 & 0.000000000000000 & 10.0000000000000 & 1.00000000000000 & -0.500000000000000 & 1.00000000000000 & 11.0000000000000 \\\\\n",
       "0.000000000000000 & 0.000000000000000 & 2.40000000000000 & 0.200000000000000 & 0.800000000000000 & 0.000000000000000 & 11.0000000000000\n",
       "\\end{array}\\right)</script></html>"
      ],
      "text/plain": [
       "[  1.00000000000000  0.000000000000000  0.800000000000000  0.400000000000000  0.100000000000000  0.000000000000000   4.00000000000000]\n",
       "[ 0.000000000000000   1.00000000000000  0.400000000000000  0.200000000000000  0.300000000000000  0.000000000000000   5.00000000000000]\n",
       "[ 0.000000000000000  0.000000000000000   10.0000000000000   1.00000000000000 -0.500000000000000   1.00000000000000   11.0000000000000]\n",
       "[ 0.000000000000000  0.000000000000000   2.40000000000000  0.200000000000000  0.800000000000000  0.000000000000000   11.0000000000000]"
      ]
     },
     "metadata": {},
     "output_type": "display_data"
    }
   ],
   "source": [
    "# ii)\n",
    "A = Matrix(RR, [[3,-1,2,1,0,0,7],[-2,4,0,0,1,0,12],[-4,3,8,0,0,1,10],[1,-3,2,0,0,0,0]])\n",
    "a = faseII(A,[3,4,5])\n",
    "show(a)"
   ]
  },
  {
   "cell_type": "markdown",
   "metadata": {},
   "source": [
    "Valor de la funció objectiu: -11\n",
    "Punt optimal: (4,5,0)"
   ]
  },
  {
   "cell_type": "code",
   "execution_count": 17,
   "metadata": {},
   "outputs": [
    {
     "data": {
      "text/html": [
       "<html><script type=\"math/tex; mode=display\">\\newcommand{\\Bold}[1]{\\mathbf{#1}}\\left(\\begin{array}{rrrrrrr}\n",
       "1 & 2 & 0 & 1 & 0 & 0 & 4 \\\\\n",
       "0 & 1 & 3 & 0 & 1 & 0 & 6 \\\\\n",
       "2 & 1 & 2 & 0 & 0 & 1 & 10 \\\\\n",
       "-2 & -4 & -3 & 0 & 0 & 0 & 0\n",
       "\\end{array}\\right)</script></html>"
      ],
      "text/plain": [
       "[ 1  2  0  1  0  0  4]\n",
       "[ 0  1  3  0  1  0  6]\n",
       "[ 2  1  2  0  0  1 10]\n",
       "[-2 -4 -3  0  0  0  0]"
      ]
     },
     "metadata": {},
     "output_type": "display_data"
    }
   ],
   "source": [
    "#Exercici 5 b\n",
    "# i) posar el sistema en forma estandar:\n",
    "var('x1', 'x2', 'x3', 'x4','x5','x6')\n",
    "objectiu = -2*x1 - 4*x2 - 3*x3 #canvi de signes a la funció objectiu perquè volem maximitzar\n",
    "restr1 = x1 + 2*x2 +x4== 4\n",
    "restr2 = x2 + 3 *x3 +x5== 6\n",
    "restr3 = 2*x1 + x2 + 2*x3 +x6== 10\n",
    "restr4 = x1 >= 0\n",
    "restr5 = x2 >= 0\n",
    "restr6 = x3 >= 0\n",
    "restr7 = x4 >= 0\n",
    "restr8 = x5 >= 0\n",
    "restr9 = x6 >= 0\n",
    "\n",
    "#la matriu del sistema seria la següent:\n",
    "B = Matrix(QQ, [[1,2,0,1,0,0,4], [0,1,3,0,1,0,6],[2,1,2,0,0,1,10],[-2,-4,-3,0,0,0,0]])\n",
    "show(B)\n",
    "#On la última columna son els termes independents\n",
    "#On la última fila és la funció objectiu"
   ]
  },
  {
   "cell_type": "code",
   "execution_count": 18,
   "metadata": {},
   "outputs": [
    {
     "data": {
      "text/html": [
       "<html><script type=\"math/tex; mode=display\">\\newcommand{\\Bold}[1]{\\mathbf{#1}}\\verb|Cal|\\phantom{\\verb!x!}\\verb|pivotar|\\phantom{\\verb!x!}\\verb|a|\\phantom{\\verb!x!}\\verb|la|\\phantom{\\verb!x!}\\verb|fila| 0 \\phantom{\\verb!x!}\\verb|i|\\phantom{\\verb!x!}\\verb|a|\\phantom{\\verb!x!}\\verb|la|\\phantom{\\verb!x!}\\verb|columna| 0</script></html>"
      ],
      "text/plain": [
       "'Cal pivotar a la fila ' 0 ' i a la columna ' 0"
      ]
     },
     "metadata": {},
     "output_type": "display_data"
    },
    {
     "data": {
      "text/html": [
       "<html><script type=\"math/tex; mode=display\">\\newcommand{\\Bold}[1]{\\mathbf{#1}}\\left(\\begin{array}{rrrrrrr}\n",
       "1 & 2 & 0 & 1 & 0 & 0 & 4 \\\\\n",
       "0 & 1 & 3 & 0 & 1 & 0 & 6 \\\\\n",
       "0 & -3 & 2 & -2 & 0 & 1 & 2 \\\\\n",
       "0 & 0 & -3 & 2 & 0 & 0 & 8\n",
       "\\end{array}\\right)</script></html>"
      ],
      "text/plain": [
       "[ 1  2  0  1  0  0  4]\n",
       "[ 0  1  3  0  1  0  6]\n",
       "[ 0 -3  2 -2  0  1  2]\n",
       "[ 0  0 -3  2  0  0  8]"
      ]
     },
     "metadata": {},
     "output_type": "display_data"
    },
    {
     "data": {
      "text/html": [
       "<html><script type=\"math/tex; mode=display\">\\newcommand{\\Bold}[1]{\\mathbf{#1}}\\left[0, 4, 5\\right]</script></html>"
      ],
      "text/plain": [
       "[0, 4, 5]"
      ]
     },
     "metadata": {},
     "output_type": "display_data"
    },
    {
     "data": {
      "text/html": [
       "<html><script type=\"math/tex; mode=display\">\\newcommand{\\Bold}[1]{\\mathbf{#1}}\\verb|Cal|\\phantom{\\verb!x!}\\verb|pivotar|\\phantom{\\verb!x!}\\verb|a|\\phantom{\\verb!x!}\\verb|la|\\phantom{\\verb!x!}\\verb|fila| 2 \\phantom{\\verb!x!}\\verb|i|\\phantom{\\verb!x!}\\verb|a|\\phantom{\\verb!x!}\\verb|la|\\phantom{\\verb!x!}\\verb|columna| 2</script></html>"
      ],
      "text/plain": [
       "'Cal pivotar a la fila ' 2 ' i a la columna ' 2"
      ]
     },
     "metadata": {},
     "output_type": "display_data"
    },
    {
     "data": {
      "text/html": [
       "<html><script type=\"math/tex; mode=display\">\\newcommand{\\Bold}[1]{\\mathbf{#1}}\\left(\\verb|criteri|\\phantom{\\verb!x!}\\verb|de|\\phantom{\\verb!x!}\\verb|millora|, 2, 2\\right)</script></html>"
      ],
      "text/plain": [
       "('criteri de millora', 2, 2)"
      ]
     },
     "metadata": {},
     "output_type": "display_data"
    },
    {
     "data": {
      "text/html": [
       "<html><script type=\"math/tex; mode=display\">\\newcommand{\\Bold}[1]{\\mathbf{#1}}\\left(\\begin{array}{rrrrrrr}\n",
       "1 & 2 & 0 & 1 & 0 & 0 & 4 \\\\\n",
       "0 & \\frac{11}{2} & 0 & 3 & 1 & -\\frac{3}{2} & 3 \\\\\n",
       "0 & -\\frac{3}{2} & 1 & -1 & 0 & \\frac{1}{2} & 1 \\\\\n",
       "0 & -\\frac{9}{2} & 0 & -1 & 0 & \\frac{3}{2} & 11\n",
       "\\end{array}\\right)</script></html>"
      ],
      "text/plain": [
       "[   1    2    0    1    0    0    4]\n",
       "[   0 11/2    0    3    1 -3/2    3]\n",
       "[   0 -3/2    1   -1    0  1/2    1]\n",
       "[   0 -9/2    0   -1    0  3/2   11]"
      ]
     },
     "metadata": {},
     "output_type": "display_data"
    },
    {
     "data": {
      "text/html": [
       "<html><script type=\"math/tex; mode=display\">\\newcommand{\\Bold}[1]{\\mathbf{#1}}\\left[0, 2, 4\\right]</script></html>"
      ],
      "text/plain": [
       "[0, 2, 4]"
      ]
     },
     "metadata": {},
     "output_type": "display_data"
    },
    {
     "data": {
      "text/html": [
       "<html><script type=\"math/tex; mode=display\">\\newcommand{\\Bold}[1]{\\mathbf{#1}}\\verb|Cal|\\phantom{\\verb!x!}\\verb|pivotar|\\phantom{\\verb!x!}\\verb|a|\\phantom{\\verb!x!}\\verb|la|\\phantom{\\verb!x!}\\verb|fila| 1 \\phantom{\\verb!x!}\\verb|i|\\phantom{\\verb!x!}\\verb|a|\\phantom{\\verb!x!}\\verb|la|\\phantom{\\verb!x!}\\verb|columna| 1</script></html>"
      ],
      "text/plain": [
       "'Cal pivotar a la fila ' 1 ' i a la columna ' 1"
      ]
     },
     "metadata": {},
     "output_type": "display_data"
    },
    {
     "data": {
      "text/html": [
       "<html><script type=\"math/tex; mode=display\">\\newcommand{\\Bold}[1]{\\mathbf{#1}}\\left(\\verb|criteri|\\phantom{\\verb!x!}\\verb|de|\\phantom{\\verb!x!}\\verb|millora|, 1, 1\\right)</script></html>"
      ],
      "text/plain": [
       "('criteri de millora', 1, 1)"
      ]
     },
     "metadata": {},
     "output_type": "display_data"
    },
    {
     "data": {
      "text/html": [
       "<html><script type=\"math/tex; mode=display\">\\newcommand{\\Bold}[1]{\\mathbf{#1}}\\left(\\begin{array}{rrrrrrr}\n",
       "1 & 0 & 0 & -\\frac{1}{11} & -\\frac{4}{11} & \\frac{6}{11} & \\frac{32}{11} \\\\\n",
       "0 & 1 & 0 & \\frac{6}{11} & \\frac{2}{11} & -\\frac{3}{11} & \\frac{6}{11} \\\\\n",
       "0 & 0 & 1 & -\\frac{2}{11} & \\frac{3}{11} & \\frac{1}{11} & \\frac{20}{11} \\\\\n",
       "0 & 0 & 0 & \\frac{16}{11} & \\frac{9}{11} & \\frac{3}{11} & \\frac{148}{11}\n",
       "\\end{array}\\right)</script></html>"
      ],
      "text/plain": [
       "[     1      0      0  -1/11  -4/11   6/11  32/11]\n",
       "[     0      1      0   6/11   2/11  -3/11   6/11]\n",
       "[     0      0      1  -2/11   3/11   1/11  20/11]\n",
       "[     0      0      0  16/11   9/11   3/11 148/11]"
      ]
     },
     "metadata": {},
     "output_type": "display_data"
    },
    {
     "data": {
      "text/html": [
       "<html><script type=\"math/tex; mode=display\">\\newcommand{\\Bold}[1]{\\mathbf{#1}}\\left[0, 1, 2\\right]</script></html>"
      ],
      "text/plain": [
       "[0, 1, 2]"
      ]
     },
     "metadata": {},
     "output_type": "display_data"
    },
    {
     "data": {
      "text/html": [
       "<html><script type=\"math/tex; mode=display\">\\newcommand{\\Bold}[1]{\\mathbf{#1}}\\verb|Valor|\\phantom{\\verb!x!}\\verb|òptim|\\phantom{\\verb!x!}\\verb|de|\\phantom{\\verb!x!}\\verb|la|\\phantom{\\verb!x!}\\verb|funció|\\phantom{\\verb!x!}\\verb|objectiu|\\phantom{\\verb!x!}\\verb|-->| -\\frac{148}{11}</script></html>"
      ],
      "text/plain": [
       "'Valor òptim de la funció objectiu --> ' -148/11"
      ]
     },
     "metadata": {},
     "output_type": "display_data"
    },
    {
     "data": {
      "text/html": [
       "<html><script type=\"math/tex; mode=display\">\\newcommand{\\Bold}[1]{\\mathbf{#1}}\\verb|Punt|\\phantom{\\verb!x!}\\verb|optimal|\\phantom{\\verb!x!}\\verb|-->| \\left[\\frac{32}{11}, \\frac{6}{11}, \\frac{20}{11}, 0, 0, 0\\right]</script></html>"
      ],
      "text/plain": [
       "'Punt optimal --> ' [32/11, 6/11, 20/11, 0, 0, 0]"
      ]
     },
     "metadata": {},
     "output_type": "display_data"
    },
    {
     "data": {
      "text/html": [
       "<html><script type=\"math/tex; mode=display\">\\newcommand{\\Bold}[1]{\\mathbf{#1}}\\left(\\verb|criteri|\\phantom{\\verb!x!}\\verb|d'optimalitat|, -\\frac{148}{11}, \\left[\\frac{32}{11}, \\frac{6}{11}, \\frac{20}{11}, 0, 0, 0\\right]\\right)</script></html>"
      ],
      "text/plain": [
       "(\"criteri d'optimalitat\", -148/11, [32/11, 6/11, 20/11, 0, 0, 0])"
      ]
     },
     "metadata": {},
     "output_type": "display_data"
    },
    {
     "data": {
      "text/html": [
       "<html><script type=\"math/tex; mode=display\">\\newcommand{\\Bold}[1]{\\mathbf{#1}}\\left(\\begin{array}{rrrrrrr}\n",
       "1 & 0 & 0 & -\\frac{1}{11} & -\\frac{4}{11} & \\frac{6}{11} & \\frac{32}{11} \\\\\n",
       "0 & 1 & 0 & \\frac{6}{11} & \\frac{2}{11} & -\\frac{3}{11} & \\frac{6}{11} \\\\\n",
       "0 & 0 & 1 & -\\frac{2}{11} & \\frac{3}{11} & \\frac{1}{11} & \\frac{20}{11} \\\\\n",
       "0 & 0 & 0 & \\frac{16}{11} & \\frac{9}{11} & \\frac{3}{11} & \\frac{148}{11}\n",
       "\\end{array}\\right)</script></html>"
      ],
      "text/plain": [
       "[     1      0      0  -1/11  -4/11   6/11  32/11]\n",
       "[     0      1      0   6/11   2/11  -3/11   6/11]\n",
       "[     0      0      1  -2/11   3/11   1/11  20/11]\n",
       "[     0      0      0  16/11   9/11   3/11 148/11]"
      ]
     },
     "metadata": {},
     "output_type": "display_data"
    }
   ],
   "source": [
    "# ii)\n",
    "B = Matrix(QQ, [[1,2,0,1,0,0,4], [0,1,3,0,1,0,6],[2,1,2,0,0,1,10],[-2,-4,-3,0,0,0,0]])\n",
    "b = faseII(B,[3,4,5])\n",
    "show(b)"
   ]
  },
  {
   "cell_type": "markdown",
   "metadata": {},
   "source": [
    "Valor de la funció objectiu: -13.4545\n",
    "Punt òptim: (2.9090, 0.5454, 1.8181)"
   ]
  },
  {
   "cell_type": "markdown",
   "metadata": {},
   "source": [
    "EXERCICI 6"
   ]
  },
  {
   "cell_type": "code",
   "execution_count": 19,
   "metadata": {},
   "outputs": [
    {
     "data": {
      "text/html": [
       "<html><script type=\"math/tex; mode=display\">\\newcommand{\\Bold}[1]{\\mathbf{#1}}\\left(\\begin{array}{rrrrr}\n",
       "1 & 2 & 3 & 0 & 15 \\\\\n",
       "2 & 1 & 5 & 0 & 20 \\\\\n",
       "1 & 2 & 1 & 1 & 10\n",
       "\\end{array}\\right)</script></html>"
      ],
      "text/plain": [
       "[ 1  2  3  0 15]\n",
       "[ 2  1  5  0 20]\n",
       "[ 1  2  1  1 10]"
      ]
     },
     "metadata": {},
     "output_type": "display_data"
    }
   ],
   "source": [
    "#a)\n",
    "\n",
    "#Ja està en forma estàndard\n",
    "#Fase I:\n",
    "A = Matrix(QQ, [[1,2,3,0,15],[2,1,5,0,20],[1,2,1,1,10]])\n",
    "show(A)\n"
   ]
  },
  {
   "cell_type": "code",
   "execution_count": 20,
   "metadata": {},
   "outputs": [
    {
     "data": {
      "text/html": [
       "<html><script type=\"math/tex; mode=display\">\\newcommand{\\Bold}[1]{\\mathbf{#1}}\\left(\\begin{array}{rrrrrrr}\n",
       "1 & 2 & 3 & 0 & 1 & 0 & 15 \\\\\n",
       "2 & 1 & 5 & 0 & 0 & 1 & 20 \\\\\n",
       "1 & 2 & 1 & 1 & 0 & 0 & 10 \\\\\n",
       "0 & 0 & 0 & 0 & 1 & 1 & 0\n",
       "\\end{array}\\right)</script></html>"
      ],
      "text/plain": [
       "[ 1  2  3  0  1  0 15]\n",
       "[ 2  1  5  0  0  1 20]\n",
       "[ 1  2  1  1  0  0 10]\n",
       "[ 0  0  0  0  1  1  0]"
      ]
     },
     "metadata": {},
     "output_type": "display_data"
    }
   ],
   "source": [
    "#Afegim les variables y1 i y2 i la funció objectiu w\n",
    "var('y1', 'y2')\n",
    "A = Matrix(QQ, [[1,2,3,0,1,0,15],[2,1,5,0,0,1,20],[1,2,1,1,0,0,10], [0,0,0,0,1,1,0]])\n",
    "show(A)"
   ]
  },
  {
   "cell_type": "code",
   "execution_count": 21,
   "metadata": {},
   "outputs": [
    {
     "data": {
      "text/html": [
       "<html><script type=\"math/tex; mode=display\">\\newcommand{\\Bold}[1]{\\mathbf{#1}}0</script></html>"
      ],
      "text/plain": [
       "0"
      ]
     },
     "metadata": {},
     "output_type": "display_data"
    }
   ],
   "source": [
    "#Veiem que la taula no està actualitzada:\n",
    "show(t_actualitzada(A,[0,1,2]))          "
   ]
  },
  {
   "cell_type": "code",
   "execution_count": 22,
   "metadata": {},
   "outputs": [
    {
     "data": {
      "text/html": [
       "<html><script type=\"math/tex; mode=display\">\\newcommand{\\Bold}[1]{\\mathbf{#1}}1</script></html>"
      ],
      "text/plain": [
       "1"
      ]
     },
     "metadata": {},
     "output_type": "display_data"
    },
    {
     "data": {
      "text/html": [
       "<html><script type=\"math/tex; mode=display\">\\newcommand{\\Bold}[1]{\\mathbf{#1}}\\left(\\begin{array}{rrrrrrr}\n",
       "1 & 2 & 3 & 0 & 1 & 0 & 15 \\\\\n",
       "2 & 1 & 5 & 0 & 0 & 1 & 20 \\\\\n",
       "1 & 2 & 1 & 1 & 0 & 0 & 10 \\\\\n",
       "-3 & -3 & -8 & 0 & 0 & 0 & -35\n",
       "\\end{array}\\right)</script></html>"
      ],
      "text/plain": [
       "[  1   2   3   0   1   0  15]\n",
       "[  2   1   5   0   0   1  20]\n",
       "[  1   2   1   1   0   0  10]\n",
       "[ -3  -3  -8   0   0   0 -35]"
      ]
     },
     "metadata": {},
     "output_type": "display_data"
    }
   ],
   "source": [
    "#Actualitzem la taula:\n",
    "A = pivota(A,0,4)\n",
    "A = pivota(A,1,5)\n",
    "show(t_actualitzada(A,[0,1,2]))\n",
    "show(A)"
   ]
  },
  {
   "cell_type": "code",
   "execution_count": 23,
   "metadata": {
    "scrolled": true
   },
   "outputs": [
    {
     "data": {
      "text/html": [
       "<html><script type=\"math/tex; mode=display\">\\newcommand{\\Bold}[1]{\\mathbf{#1}}\\verb|Cal|\\phantom{\\verb!x!}\\verb|pivotar|\\phantom{\\verb!x!}\\verb|a|\\phantom{\\verb!x!}\\verb|la|\\phantom{\\verb!x!}\\verb|fila| 1 \\phantom{\\verb!x!}\\verb|i|\\phantom{\\verb!x!}\\verb|a|\\phantom{\\verb!x!}\\verb|la|\\phantom{\\verb!x!}\\verb|columna| 0</script></html>"
      ],
      "text/plain": [
       "'Cal pivotar a la fila ' 1 ' i a la columna ' 0"
      ]
     },
     "metadata": {},
     "output_type": "display_data"
    },
    {
     "data": {
      "text/html": [
       "<html><script type=\"math/tex; mode=display\">\\newcommand{\\Bold}[1]{\\mathbf{#1}}\\left(\\begin{array}{rrrrrrr}\n",
       "0 & \\frac{3}{2} & \\frac{1}{2} & 0 & 1 & -\\frac{1}{2} & 5 \\\\\n",
       "1 & \\frac{1}{2} & \\frac{5}{2} & 0 & 0 & \\frac{1}{2} & 10 \\\\\n",
       "0 & \\frac{3}{2} & -\\frac{3}{2} & 1 & 0 & -\\frac{1}{2} & 0 \\\\\n",
       "0 & -\\frac{3}{2} & -\\frac{1}{2} & 0 & 0 & \\frac{3}{2} & -5\n",
       "\\end{array}\\right)</script></html>"
      ],
      "text/plain": [
       "[   0  3/2  1/2    0    1 -1/2    5]\n",
       "[   1  1/2  5/2    0    0  1/2   10]\n",
       "[   0  3/2 -3/2    1    0 -1/2    0]\n",
       "[   0 -3/2 -1/2    0    0  3/2   -5]"
      ]
     },
     "metadata": {},
     "output_type": "display_data"
    },
    {
     "data": {
      "text/html": [
       "<html><script type=\"math/tex; mode=display\">\\newcommand{\\Bold}[1]{\\mathbf{#1}}\\left[0, 3, 4\\right]</script></html>"
      ],
      "text/plain": [
       "[0, 3, 4]"
      ]
     },
     "metadata": {},
     "output_type": "display_data"
    },
    {
     "data": {
      "text/html": [
       "<html><script type=\"math/tex; mode=display\">\\newcommand{\\Bold}[1]{\\mathbf{#1}}\\verb|Cal|\\phantom{\\verb!x!}\\verb|pivotar|\\phantom{\\verb!x!}\\verb|a|\\phantom{\\verb!x!}\\verb|la|\\phantom{\\verb!x!}\\verb|fila| 2 \\phantom{\\verb!x!}\\verb|i|\\phantom{\\verb!x!}\\verb|a|\\phantom{\\verb!x!}\\verb|la|\\phantom{\\verb!x!}\\verb|columna| 1</script></html>"
      ],
      "text/plain": [
       "'Cal pivotar a la fila ' 2 ' i a la columna ' 1"
      ]
     },
     "metadata": {},
     "output_type": "display_data"
    },
    {
     "data": {
      "text/html": [
       "<html><script type=\"math/tex; mode=display\">\\newcommand{\\Bold}[1]{\\mathbf{#1}}\\left(\\verb|criteri|\\phantom{\\verb!x!}\\verb|de|\\phantom{\\verb!x!}\\verb|millora|, 2, 1\\right)</script></html>"
      ],
      "text/plain": [
       "('criteri de millora', 2, 1)"
      ]
     },
     "metadata": {},
     "output_type": "display_data"
    },
    {
     "data": {
      "text/html": [
       "<html><script type=\"math/tex; mode=display\">\\newcommand{\\Bold}[1]{\\mathbf{#1}}\\left(\\begin{array}{rrrrrrr}\n",
       "0 & 0 & 2 & -1 & 1 & 0 & 5 \\\\\n",
       "1 & 0 & 3 & -\\frac{1}{3} & 0 & \\frac{2}{3} & 10 \\\\\n",
       "0 & 1 & -1 & \\frac{2}{3} & 0 & -\\frac{1}{3} & 0 \\\\\n",
       "0 & 0 & -2 & 1 & 0 & 1 & -5\n",
       "\\end{array}\\right)</script></html>"
      ],
      "text/plain": [
       "[   0    0    2   -1    1    0    5]\n",
       "[   1    0    3 -1/3    0  2/3   10]\n",
       "[   0    1   -1  2/3    0 -1/3    0]\n",
       "[   0    0   -2    1    0    1   -5]"
      ]
     },
     "metadata": {},
     "output_type": "display_data"
    },
    {
     "data": {
      "text/html": [
       "<html><script type=\"math/tex; mode=display\">\\newcommand{\\Bold}[1]{\\mathbf{#1}}\\left[0, 1, 4\\right]</script></html>"
      ],
      "text/plain": [
       "[0, 1, 4]"
      ]
     },
     "metadata": {},
     "output_type": "display_data"
    },
    {
     "data": {
      "text/html": [
       "<html><script type=\"math/tex; mode=display\">\\newcommand{\\Bold}[1]{\\mathbf{#1}}\\verb|Cal|\\phantom{\\verb!x!}\\verb|pivotar|\\phantom{\\verb!x!}\\verb|a|\\phantom{\\verb!x!}\\verb|la|\\phantom{\\verb!x!}\\verb|fila| 0 \\phantom{\\verb!x!}\\verb|i|\\phantom{\\verb!x!}\\verb|a|\\phantom{\\verb!x!}\\verb|la|\\phantom{\\verb!x!}\\verb|columna| 2</script></html>"
      ],
      "text/plain": [
       "'Cal pivotar a la fila ' 0 ' i a la columna ' 2"
      ]
     },
     "metadata": {},
     "output_type": "display_data"
    },
    {
     "data": {
      "text/html": [
       "<html><script type=\"math/tex; mode=display\">\\newcommand{\\Bold}[1]{\\mathbf{#1}}\\left(\\verb|criteri|\\phantom{\\verb!x!}\\verb|de|\\phantom{\\verb!x!}\\verb|millora|, 0, 2\\right)</script></html>"
      ],
      "text/plain": [
       "('criteri de millora', 0, 2)"
      ]
     },
     "metadata": {},
     "output_type": "display_data"
    },
    {
     "data": {
      "text/html": [
       "<html><script type=\"math/tex; mode=display\">\\newcommand{\\Bold}[1]{\\mathbf{#1}}\\left(\\begin{array}{rrrrrrr}\n",
       "0 & 0 & 1 & -\\frac{1}{2} & \\frac{1}{2} & 0 & \\frac{5}{2} \\\\\n",
       "1 & 0 & 0 & \\frac{7}{6} & -\\frac{3}{2} & \\frac{2}{3} & \\frac{5}{2} \\\\\n",
       "0 & 1 & 0 & \\frac{1}{6} & \\frac{1}{2} & -\\frac{1}{3} & \\frac{5}{2} \\\\\n",
       "0 & 0 & 0 & 0 & 1 & 1 & 0\n",
       "\\end{array}\\right)</script></html>"
      ],
      "text/plain": [
       "[   0    0    1 -1/2  1/2    0  5/2]\n",
       "[   1    0    0  7/6 -3/2  2/3  5/2]\n",
       "[   0    1    0  1/6  1/2 -1/3  5/2]\n",
       "[   0    0    0    0    1    1    0]"
      ]
     },
     "metadata": {},
     "output_type": "display_data"
    },
    {
     "data": {
      "text/html": [
       "<html><script type=\"math/tex; mode=display\">\\newcommand{\\Bold}[1]{\\mathbf{#1}}\\left[0, 1, 2\\right]</script></html>"
      ],
      "text/plain": [
       "[0, 1, 2]"
      ]
     },
     "metadata": {},
     "output_type": "display_data"
    },
    {
     "data": {
      "text/html": [
       "<html><script type=\"math/tex; mode=display\">\\newcommand{\\Bold}[1]{\\mathbf{#1}}\\verb|Valor|\\phantom{\\verb!x!}\\verb|òptim|\\phantom{\\verb!x!}\\verb|de|\\phantom{\\verb!x!}\\verb|la|\\phantom{\\verb!x!}\\verb|funció|\\phantom{\\verb!x!}\\verb|objectiu|\\phantom{\\verb!x!}\\verb|-->| 0</script></html>"
      ],
      "text/plain": [
       "'Valor òptim de la funció objectiu --> ' 0"
      ]
     },
     "metadata": {},
     "output_type": "display_data"
    },
    {
     "data": {
      "text/html": [
       "<html><script type=\"math/tex; mode=display\">\\newcommand{\\Bold}[1]{\\mathbf{#1}}\\verb|Punt|\\phantom{\\verb!x!}\\verb|optimal|\\phantom{\\verb!x!}\\verb|-->| \\left[\\frac{5}{2}, \\frac{5}{2}, \\frac{5}{2}, 0, 0, 0\\right]</script></html>"
      ],
      "text/plain": [
       "'Punt optimal --> ' [5/2, 5/2, 5/2, 0, 0, 0]"
      ]
     },
     "metadata": {},
     "output_type": "display_data"
    },
    {
     "data": {
      "text/html": [
       "<html><script type=\"math/tex; mode=display\">\\newcommand{\\Bold}[1]{\\mathbf{#1}}\\left(\\verb|criteri|\\phantom{\\verb!x!}\\verb|d'optimalitat|, 0, \\left[\\frac{5}{2}, \\frac{5}{2}, \\frac{5}{2}, 0, 0, 0\\right]\\right)</script></html>"
      ],
      "text/plain": [
       "(\"criteri d'optimalitat\", 0, [5/2, 5/2, 5/2, 0, 0, 0])"
      ]
     },
     "metadata": {},
     "output_type": "display_data"
    },
    {
     "data": {
      "text/html": [
       "<html><script type=\"math/tex; mode=display\">\\newcommand{\\Bold}[1]{\\mathbf{#1}}\\left(\\begin{array}{rrrrrrr}\n",
       "0 & 0 & 1 & -\\frac{1}{2} & \\frac{1}{2} & 0 & \\frac{5}{2} \\\\\n",
       "1 & 0 & 0 & \\frac{7}{6} & -\\frac{3}{2} & \\frac{2}{3} & \\frac{5}{2} \\\\\n",
       "0 & 1 & 0 & \\frac{1}{6} & \\frac{1}{2} & -\\frac{1}{3} & \\frac{5}{2} \\\\\n",
       "0 & 0 & 0 & 0 & 1 & 1 & 0\n",
       "\\end{array}\\right)</script></html>"
      ],
      "text/plain": [
       "[   0    0    1 -1/2  1/2    0  5/2]\n",
       "[   1    0    0  7/6 -3/2  2/3  5/2]\n",
       "[   0    1    0  1/6  1/2 -1/3  5/2]\n",
       "[   0    0    0    0    1    1    0]"
      ]
     },
     "metadata": {},
     "output_type": "display_data"
    }
   ],
   "source": [
    "#Comencem la fase I, (com un cop la taula està actualitzada és igual a la fase II, utilitzo la funció de la fase II)\n",
    "a = faseII(A,[3,4,5])\n",
    "show(a)"
   ]
  },
  {
   "cell_type": "markdown",
   "metadata": {},
   "source": [
    "Com que el valor de la funció objectiu és 0, poden començar la fase II"
   ]
  },
  {
   "cell_type": "code",
   "execution_count": 24,
   "metadata": {},
   "outputs": [
    {
     "data": {
      "text/html": [
       "<html><script type=\"math/tex; mode=display\">\\newcommand{\\Bold}[1]{\\mathbf{#1}}\\verb|Cal|\\phantom{\\verb!x!}\\verb|pivotar|\\phantom{\\verb!x!}\\verb|a|\\phantom{\\verb!x!}\\verb|la|\\phantom{\\verb!x!}\\verb|fila| 1 \\phantom{\\verb!x!}\\verb|i|\\phantom{\\verb!x!}\\verb|a|\\phantom{\\verb!x!}\\verb|la|\\phantom{\\verb!x!}\\verb|columna| 0</script></html>"
      ],
      "text/plain": [
       "'Cal pivotar a la fila ' 1 ' i a la columna ' 0"
      ]
     },
     "metadata": {},
     "output_type": "display_data"
    },
    {
     "data": {
      "text/html": [
       "<html><script type=\"math/tex; mode=display\">\\newcommand{\\Bold}[1]{\\mathbf{#1}}\\left(\\begin{array}{rrrrr}\n",
       "0 & 0 & 1 & -\\frac{1}{2} & \\frac{5}{2} \\\\\n",
       "1 & 0 & 0 & \\frac{7}{6} & \\frac{5}{2} \\\\\n",
       "0 & 1 & 0 & \\frac{1}{6} & \\frac{5}{2} \\\\\n",
       "0 & -2 & -3 & \\frac{13}{6} & \\frac{5}{2}\n",
       "\\end{array}\\right)</script></html>"
      ],
      "text/plain": [
       "[   0    0    1 -1/2  5/2]\n",
       "[   1    0    0  7/6  5/2]\n",
       "[   0    1    0  1/6  5/2]\n",
       "[   0   -2   -3 13/6  5/2]"
      ]
     },
     "metadata": {},
     "output_type": "display_data"
    },
    {
     "data": {
      "text/html": [
       "<html><script type=\"math/tex; mode=display\">\\newcommand{\\Bold}[1]{\\mathbf{#1}}\\left[0\\right]</script></html>"
      ],
      "text/plain": [
       "[0]"
      ]
     },
     "metadata": {},
     "output_type": "display_data"
    },
    {
     "data": {
      "text/html": [
       "<html><script type=\"math/tex; mode=display\">\\newcommand{\\Bold}[1]{\\mathbf{#1}}\\verb|Cal|\\phantom{\\verb!x!}\\verb|pivotar|\\phantom{\\verb!x!}\\verb|a|\\phantom{\\verb!x!}\\verb|la|\\phantom{\\verb!x!}\\verb|fila| 2 \\phantom{\\verb!x!}\\verb|i|\\phantom{\\verb!x!}\\verb|a|\\phantom{\\verb!x!}\\verb|la|\\phantom{\\verb!x!}\\verb|columna| 1</script></html>"
      ],
      "text/plain": [
       "'Cal pivotar a la fila ' 2 ' i a la columna ' 1"
      ]
     },
     "metadata": {},
     "output_type": "display_data"
    },
    {
     "data": {
      "text/html": [
       "<html><script type=\"math/tex; mode=display\">\\newcommand{\\Bold}[1]{\\mathbf{#1}}\\left(\\verb|criteri|\\phantom{\\verb!x!}\\verb|de|\\phantom{\\verb!x!}\\verb|millora|, 2, 1\\right)</script></html>"
      ],
      "text/plain": [
       "('criteri de millora', 2, 1)"
      ]
     },
     "metadata": {},
     "output_type": "display_data"
    },
    {
     "data": {
      "text/html": [
       "<html><script type=\"math/tex; mode=display\">\\newcommand{\\Bold}[1]{\\mathbf{#1}}\\left(\\begin{array}{rrrrr}\n",
       "0 & 0 & 1 & -\\frac{1}{2} & \\frac{5}{2} \\\\\n",
       "1 & 0 & 0 & \\frac{7}{6} & \\frac{5}{2} \\\\\n",
       "0 & 1 & 0 & \\frac{1}{6} & \\frac{5}{2} \\\\\n",
       "0 & 0 & -3 & \\frac{5}{2} & \\frac{15}{2}\n",
       "\\end{array}\\right)</script></html>"
      ],
      "text/plain": [
       "[   0    0    1 -1/2  5/2]\n",
       "[   1    0    0  7/6  5/2]\n",
       "[   0    1    0  1/6  5/2]\n",
       "[   0    0   -3  5/2 15/2]"
      ]
     },
     "metadata": {},
     "output_type": "display_data"
    },
    {
     "data": {
      "text/html": [
       "<html><script type=\"math/tex; mode=display\">\\newcommand{\\Bold}[1]{\\mathbf{#1}}\\left[0, 1\\right]</script></html>"
      ],
      "text/plain": [
       "[0, 1]"
      ]
     },
     "metadata": {},
     "output_type": "display_data"
    },
    {
     "data": {
      "text/html": [
       "<html><script type=\"math/tex; mode=display\">\\newcommand{\\Bold}[1]{\\mathbf{#1}}\\verb|Cal|\\phantom{\\verb!x!}\\verb|pivotar|\\phantom{\\verb!x!}\\verb|a|\\phantom{\\verb!x!}\\verb|la|\\phantom{\\verb!x!}\\verb|fila| 0 \\phantom{\\verb!x!}\\verb|i|\\phantom{\\verb!x!}\\verb|a|\\phantom{\\verb!x!}\\verb|la|\\phantom{\\verb!x!}\\verb|columna| 2</script></html>"
      ],
      "text/plain": [
       "'Cal pivotar a la fila ' 0 ' i a la columna ' 2"
      ]
     },
     "metadata": {},
     "output_type": "display_data"
    },
    {
     "data": {
      "text/html": [
       "<html><script type=\"math/tex; mode=display\">\\newcommand{\\Bold}[1]{\\mathbf{#1}}\\left(\\verb|criteri|\\phantom{\\verb!x!}\\verb|de|\\phantom{\\verb!x!}\\verb|millora|, 0, 2\\right)</script></html>"
      ],
      "text/plain": [
       "('criteri de millora', 0, 2)"
      ]
     },
     "metadata": {},
     "output_type": "display_data"
    },
    {
     "data": {
      "text/html": [
       "<html><script type=\"math/tex; mode=display\">\\newcommand{\\Bold}[1]{\\mathbf{#1}}\\left(\\begin{array}{rrrrr}\n",
       "0 & 0 & 1 & -\\frac{1}{2} & \\frac{5}{2} \\\\\n",
       "1 & 0 & 0 & \\frac{7}{6} & \\frac{5}{2} \\\\\n",
       "0 & 1 & 0 & \\frac{1}{6} & \\frac{5}{2} \\\\\n",
       "0 & 0 & 0 & 1 & 15\n",
       "\\end{array}\\right)</script></html>"
      ],
      "text/plain": [
       "[   0    0    1 -1/2  5/2]\n",
       "[   1    0    0  7/6  5/2]\n",
       "[   0    1    0  1/6  5/2]\n",
       "[   0    0    0    1   15]"
      ]
     },
     "metadata": {},
     "output_type": "display_data"
    },
    {
     "data": {
      "text/html": [
       "<html><script type=\"math/tex; mode=display\">\\newcommand{\\Bold}[1]{\\mathbf{#1}}\\left[0, 1, 2\\right]</script></html>"
      ],
      "text/plain": [
       "[0, 1, 2]"
      ]
     },
     "metadata": {},
     "output_type": "display_data"
    },
    {
     "data": {
      "text/html": [
       "<html><script type=\"math/tex; mode=display\">\\newcommand{\\Bold}[1]{\\mathbf{#1}}\\verb|Valor|\\phantom{\\verb!x!}\\verb|òptim|\\phantom{\\verb!x!}\\verb|de|\\phantom{\\verb!x!}\\verb|la|\\phantom{\\verb!x!}\\verb|funció|\\phantom{\\verb!x!}\\verb|objectiu|\\phantom{\\verb!x!}\\verb|-->| -15</script></html>"
      ],
      "text/plain": [
       "'Valor òptim de la funció objectiu --> ' -15"
      ]
     },
     "metadata": {},
     "output_type": "display_data"
    },
    {
     "data": {
      "text/html": [
       "<html><script type=\"math/tex; mode=display\">\\newcommand{\\Bold}[1]{\\mathbf{#1}}\\verb|Punt|\\phantom{\\verb!x!}\\verb|optimal|\\phantom{\\verb!x!}\\verb|-->| \\left[\\frac{5}{2}, \\frac{5}{2}, \\frac{5}{2}, 0\\right]</script></html>"
      ],
      "text/plain": [
       "'Punt optimal --> ' [5/2, 5/2, 5/2, 0]"
      ]
     },
     "metadata": {},
     "output_type": "display_data"
    },
    {
     "data": {
      "text/html": [
       "<html><script type=\"math/tex; mode=display\">\\newcommand{\\Bold}[1]{\\mathbf{#1}}\\left(\\verb|criteri|\\phantom{\\verb!x!}\\verb|d'optimalitat|, -15, \\left[\\frac{5}{2}, \\frac{5}{2}, \\frac{5}{2}, 0\\right]\\right)</script></html>"
      ],
      "text/plain": [
       "(\"criteri d'optimalitat\", -15, [5/2, 5/2, 5/2, 0])"
      ]
     },
     "metadata": {},
     "output_type": "display_data"
    },
    {
     "data": {
      "text/html": [
       "<html><script type=\"math/tex; mode=display\">\\newcommand{\\Bold}[1]{\\mathbf{#1}}\\left(\\begin{array}{rrrrr}\n",
       "0 & 0 & 1 & -\\frac{1}{2} & \\frac{5}{2} \\\\\n",
       "1 & 0 & 0 & \\frac{7}{6} & \\frac{5}{2} \\\\\n",
       "0 & 1 & 0 & \\frac{1}{6} & \\frac{5}{2} \\\\\n",
       "0 & 0 & 0 & 1 & 15\n",
       "\\end{array}\\right)</script></html>"
      ],
      "text/plain": [
       "[   0    0    1 -1/2  5/2]\n",
       "[   1    0    0  7/6  5/2]\n",
       "[   0    1    0  1/6  5/2]\n",
       "[   0    0    0    1   15]"
      ]
     },
     "metadata": {},
     "output_type": "display_data"
    }
   ],
   "source": [
    "A = A = Matrix(QQ, [[0,0,1,-1/2,5/2], [1,0,0,7/6,5/2], [0,1,0,1/6,5/2], [-1,-2,-3,1,0] ])\n",
    "a = faseII(A,[3,4,5])\n",
    "show(a)"
   ]
  },
  {
   "cell_type": "markdown",
   "metadata": {},
   "source": [
    "Valor de la funció objectiu: -15\n",
    "Punt òptim: (5/2, 5/2, 5/2)"
   ]
  },
  {
   "cell_type": "code",
   "execution_count": 25,
   "metadata": {},
   "outputs": [
    {
     "data": {
      "text/html": [
       "<html><script type=\"math/tex; mode=display\">\\newcommand{\\Bold}[1]{\\mathbf{#1}}\\left(\\begin{array}{rrrrrrr}\n",
       "1 & 1 & 1 & 1 & 0 & 0 & 3 \\\\\n",
       "1 & 1 & 0 & 0 & -1 & 0 & 2 \\\\\n",
       "1 & 0 & 1 & 0 & 0 & 1 & 1\n",
       "\\end{array}\\right)</script></html>"
      ],
      "text/plain": [
       "[ 1  1  1  1  0  0  3]\n",
       "[ 1  1  0  0 -1  0  2]\n",
       "[ 1  0  1  0  0  1  1]"
      ]
     },
     "metadata": {},
     "output_type": "display_data"
    }
   ],
   "source": [
    "# b)\n",
    "\n",
    "#Sistema en forma estàndard\n",
    "#On la última columna son els termes independents\n",
    "B = Matrix(QQ, [[1,1,1,1,0,0,3],[1,1,0,0,-1,0,2],[1,0,1,0,0,1,1]])\n",
    "show(B)"
   ]
  },
  {
   "cell_type": "code",
   "execution_count": 26,
   "metadata": {
    "scrolled": true
   },
   "outputs": [
    {
     "data": {
      "text/html": [
       "<html><script type=\"math/tex; mode=display\">\\newcommand{\\Bold}[1]{\\mathbf{#1}}0</script></html>"
      ],
      "text/plain": [
       "0"
      ]
     },
     "metadata": {},
     "output_type": "display_data"
    }
   ],
   "source": [
    "#Comprovem si està actualitzat:\n",
    "show(t_actualitzada(B,[0,1,2]))          "
   ]
  },
  {
   "cell_type": "code",
   "execution_count": 27,
   "metadata": {},
   "outputs": [
    {
     "data": {
      "text/html": [
       "<html><script type=\"math/tex; mode=display\">\\newcommand{\\Bold}[1]{\\mathbf{#1}}\\left(\\begin{array}{rrrrrrrr}\n",
       "1 & 1 & 1 & 1 & 0 & 0 & 0 & 3 \\\\\n",
       "1 & 1 & 0 & 0 & -1 & 0 & 1 & 2 \\\\\n",
       "1 & 0 & 1 & 0 & 0 & 1 & 0 & 1 \\\\\n",
       "-1 & -1 & 0 & 0 & 1 & 0 & 0 & -2\n",
       "\\end{array}\\right)</script></html>"
      ],
      "text/plain": [
       "[ 1  1  1  1  0  0  0  3]\n",
       "[ 1  1  0  0 -1  0  1  2]\n",
       "[ 1  0  1  0  0  1  0  1]\n",
       "[-1 -1  0  0  1  0  0 -2]"
      ]
     },
     "metadata": {},
     "output_type": "display_data"
    }
   ],
   "source": [
    "#Actualitzem\n",
    "B = Matrix(QQ, [[1,1,1,1,0,0,0,3],[1,1,0,0,-1,0,1,2],[1,0,1,0,0,1,0,1], [0,0,0,0,0,0,1,0]])\n",
    "B = pivota(B,1,6)\n",
    "show(B)"
   ]
  },
  {
   "cell_type": "code",
   "execution_count": 28,
   "metadata": {},
   "outputs": [
    {
     "data": {
      "text/html": [
       "<html><script type=\"math/tex; mode=display\">\\newcommand{\\Bold}[1]{\\mathbf{#1}}\\verb|Cal|\\phantom{\\verb!x!}\\verb|pivotar|\\phantom{\\verb!x!}\\verb|a|\\phantom{\\verb!x!}\\verb|la|\\phantom{\\verb!x!}\\verb|fila| 2 \\phantom{\\verb!x!}\\verb|i|\\phantom{\\verb!x!}\\verb|a|\\phantom{\\verb!x!}\\verb|la|\\phantom{\\verb!x!}\\verb|columna| 0</script></html>"
      ],
      "text/plain": [
       "'Cal pivotar a la fila ' 2 ' i a la columna ' 0"
      ]
     },
     "metadata": {},
     "output_type": "display_data"
    },
    {
     "data": {
      "text/html": [
       "<html><script type=\"math/tex; mode=display\">\\newcommand{\\Bold}[1]{\\mathbf{#1}}\\left(\\begin{array}{rrrrrrrr}\n",
       "0 & 1 & 0 & 1 & 0 & -1 & 0 & 2 \\\\\n",
       "0 & 1 & -1 & 0 & -1 & -1 & 1 & 1 \\\\\n",
       "1 & 0 & 1 & 0 & 0 & 1 & 0 & 1 \\\\\n",
       "0 & -1 & 1 & 0 & 1 & 1 & 0 & -1\n",
       "\\end{array}\\right)</script></html>"
      ],
      "text/plain": [
       "[ 0  1  0  1  0 -1  0  2]\n",
       "[ 0  1 -1  0 -1 -1  1  1]\n",
       "[ 1  0  1  0  0  1  0  1]\n",
       "[ 0 -1  1  0  1  1  0 -1]"
      ]
     },
     "metadata": {},
     "output_type": "display_data"
    },
    {
     "data": {
      "text/html": [
       "<html><script type=\"math/tex; mode=display\">\\newcommand{\\Bold}[1]{\\mathbf{#1}}\\left[0, 3, 6\\right]</script></html>"
      ],
      "text/plain": [
       "[0, 3, 6]"
      ]
     },
     "metadata": {},
     "output_type": "display_data"
    },
    {
     "data": {
      "text/html": [
       "<html><script type=\"math/tex; mode=display\">\\newcommand{\\Bold}[1]{\\mathbf{#1}}\\verb|Cal|\\phantom{\\verb!x!}\\verb|pivotar|\\phantom{\\verb!x!}\\verb|a|\\phantom{\\verb!x!}\\verb|la|\\phantom{\\verb!x!}\\verb|fila| 1 \\phantom{\\verb!x!}\\verb|i|\\phantom{\\verb!x!}\\verb|a|\\phantom{\\verb!x!}\\verb|la|\\phantom{\\verb!x!}\\verb|columna| 1</script></html>"
      ],
      "text/plain": [
       "'Cal pivotar a la fila ' 1 ' i a la columna ' 1"
      ]
     },
     "metadata": {},
     "output_type": "display_data"
    },
    {
     "data": {
      "text/html": [
       "<html><script type=\"math/tex; mode=display\">\\newcommand{\\Bold}[1]{\\mathbf{#1}}\\left(\\verb|criteri|\\phantom{\\verb!x!}\\verb|de|\\phantom{\\verb!x!}\\verb|millora|, 1, 1\\right)</script></html>"
      ],
      "text/plain": [
       "('criteri de millora', 1, 1)"
      ]
     },
     "metadata": {},
     "output_type": "display_data"
    },
    {
     "data": {
      "text/html": [
       "<html><script type=\"math/tex; mode=display\">\\newcommand{\\Bold}[1]{\\mathbf{#1}}\\left(\\begin{array}{rrrrrrrr}\n",
       "0 & 0 & 1 & 1 & 1 & 0 & -1 & 1 \\\\\n",
       "0 & 1 & -1 & 0 & -1 & -1 & 1 & 1 \\\\\n",
       "1 & 0 & 1 & 0 & 0 & 1 & 0 & 1 \\\\\n",
       "0 & 0 & 0 & 0 & 0 & 0 & 1 & 0\n",
       "\\end{array}\\right)</script></html>"
      ],
      "text/plain": [
       "[ 0  0  1  1  1  0 -1  1]\n",
       "[ 0  1 -1  0 -1 -1  1  1]\n",
       "[ 1  0  1  0  0  1  0  1]\n",
       "[ 0  0  0  0  0  0  1  0]"
      ]
     },
     "metadata": {},
     "output_type": "display_data"
    },
    {
     "data": {
      "text/html": [
       "<html><script type=\"math/tex; mode=display\">\\newcommand{\\Bold}[1]{\\mathbf{#1}}\\left[0, 1, 3\\right]</script></html>"
      ],
      "text/plain": [
       "[0, 1, 3]"
      ]
     },
     "metadata": {},
     "output_type": "display_data"
    },
    {
     "data": {
      "text/html": [
       "<html><script type=\"math/tex; mode=display\">\\newcommand{\\Bold}[1]{\\mathbf{#1}}\\verb|Valor|\\phantom{\\verb!x!}\\verb|òptim|\\phantom{\\verb!x!}\\verb|de|\\phantom{\\verb!x!}\\verb|la|\\phantom{\\verb!x!}\\verb|funció|\\phantom{\\verb!x!}\\verb|objectiu|\\phantom{\\verb!x!}\\verb|-->| 0</script></html>"
      ],
      "text/plain": [
       "'Valor òptim de la funció objectiu --> ' 0"
      ]
     },
     "metadata": {},
     "output_type": "display_data"
    },
    {
     "data": {
      "text/html": [
       "<html><script type=\"math/tex; mode=display\">\\newcommand{\\Bold}[1]{\\mathbf{#1}}\\verb|Punt|\\phantom{\\verb!x!}\\verb|optimal|\\phantom{\\verb!x!}\\verb|-->| \\left[1, 1, 0, 1, 0, 0, 0\\right]</script></html>"
      ],
      "text/plain": [
       "'Punt optimal --> ' [1, 1, 0, 1, 0, 0, 0]"
      ]
     },
     "metadata": {},
     "output_type": "display_data"
    },
    {
     "data": {
      "text/html": [
       "<html><script type=\"math/tex; mode=display\">\\newcommand{\\Bold}[1]{\\mathbf{#1}}\\left(\\verb|criteri|\\phantom{\\verb!x!}\\verb|d'optimalitat|, 0, \\left[1, 1, 0, 1, 0, 0, 0\\right]\\right)</script></html>"
      ],
      "text/plain": [
       "(\"criteri d'optimalitat\", 0, [1, 1, 0, 1, 0, 0, 0])"
      ]
     },
     "metadata": {},
     "output_type": "display_data"
    },
    {
     "data": {
      "text/html": [
       "<html><script type=\"math/tex; mode=display\">\\newcommand{\\Bold}[1]{\\mathbf{#1}}\\left(\\begin{array}{rrrrrrrr}\n",
       "0 & 0 & 1 & 1 & 1 & 0 & -1 & 1 \\\\\n",
       "0 & 1 & -1 & 0 & -1 & -1 & 1 & 1 \\\\\n",
       "1 & 0 & 1 & 0 & 0 & 1 & 0 & 1 \\\\\n",
       "0 & 0 & 0 & 0 & 0 & 0 & 1 & 0\n",
       "\\end{array}\\right)</script></html>"
      ],
      "text/plain": [
       "[ 0  0  1  1  1  0 -1  1]\n",
       "[ 0  1 -1  0 -1 -1  1  1]\n",
       "[ 1  0  1  0  0  1  0  1]\n",
       "[ 0  0  0  0  0  0  1  0]"
      ]
     },
     "metadata": {},
     "output_type": "display_data"
    }
   ],
   "source": [
    "#Fase I\n",
    "b = faseII(B,[3,5,6])\n",
    "show(b)"
   ]
  },
  {
   "cell_type": "markdown",
   "metadata": {},
   "source": [
    "Com el valor òptim de la funció objectiu és 0, seguim amb la fase II"
   ]
  },
  {
   "cell_type": "code",
   "execution_count": 29,
   "metadata": {
    "scrolled": true
   },
   "outputs": [
    {
     "data": {
      "text/html": [
       "<html><script type=\"math/tex; mode=display\">\\newcommand{\\Bold}[1]{\\mathbf{#1}}\\left(\\begin{array}{rrrrrrr}\n",
       "0 & 0 & 1 & 1 & 1 & 0 & 1 \\\\\n",
       "0 & 1 & -1 & 0 & -1 & -1 & 1 \\\\\n",
       "1 & 0 & 1 & 0 & 0 & 1 & 1 \\\\\n",
       "3 & 2 & -2 & 0 & 0 & 0 & 0\n",
       "\\end{array}\\right)</script></html>"
      ],
      "text/plain": [
       "[ 0  0  1  1  1  0  1]\n",
       "[ 0  1 -1  0 -1 -1  1]\n",
       "[ 1  0  1  0  0  1  1]\n",
       "[ 3  2 -2  0  0  0  0]"
      ]
     },
     "metadata": {},
     "output_type": "display_data"
    }
   ],
   "source": [
    "B = Matrix(QQ, [[0,0,1,1,1,0,1],[0,1,-1,0,-1,-1,1],[1,0,1,0,0,1,1],[3,2,-2,0,0,0,0]])\n",
    "show(B)"
   ]
  },
  {
   "cell_type": "code",
   "execution_count": 30,
   "metadata": {},
   "outputs": [
    {
     "data": {
      "text/html": [
       "<html><script type=\"math/tex; mode=display\">\\newcommand{\\Bold}[1]{\\mathbf{#1}}0</script></html>"
      ],
      "text/plain": [
       "0"
      ]
     },
     "metadata": {},
     "output_type": "display_data"
    }
   ],
   "source": [
    "#Mirem si està actualitzada\n",
    "tururu = actualitzada(B, [3,1,0])\n",
    "show(tururu)"
   ]
  },
  {
   "cell_type": "code",
   "execution_count": 31,
   "metadata": {},
   "outputs": [
    {
     "data": {
      "text/html": [
       "<html><script type=\"math/tex; mode=display\">\\newcommand{\\Bold}[1]{\\mathbf{#1}}\\left(\\begin{array}{rrrrrrr}\n",
       "0 & 0 & 1 & 1 & 1 & 0 & 1 \\\\\n",
       "0 & 1 & -1 & 0 & -1 & -1 & 1 \\\\\n",
       "1 & 0 & 1 & 0 & 0 & 1 & 1 \\\\\n",
       "0 & 0 & -3 & 0 & 2 & -1 & -5\n",
       "\\end{array}\\right)</script></html>"
      ],
      "text/plain": [
       "[ 0  0  1  1  1  0  1]\n",
       "[ 0  1 -1  0 -1 -1  1]\n",
       "[ 1  0  1  0  0  1  1]\n",
       "[ 0  0 -3  0  2 -1 -5]"
      ]
     },
     "metadata": {},
     "output_type": "display_data"
    }
   ],
   "source": [
    "#Actualitzem\n",
    "B = pivota(B,0,3)\n",
    "B = pivota(B,1,1)\n",
    "B = pivota(B,2,0)\n",
    "show(B)"
   ]
  },
  {
   "cell_type": "code",
   "execution_count": 32,
   "metadata": {},
   "outputs": [
    {
     "data": {
      "text/html": [
       "<html><script type=\"math/tex; mode=display\">\\newcommand{\\Bold}[1]{\\mathbf{#1}}\\verb|Cal|\\phantom{\\verb!x!}\\verb|pivotar|\\phantom{\\verb!x!}\\verb|a|\\phantom{\\verb!x!}\\verb|la|\\phantom{\\verb!x!}\\verb|fila| 0 \\phantom{\\verb!x!}\\verb|i|\\phantom{\\verb!x!}\\verb|a|\\phantom{\\verb!x!}\\verb|la|\\phantom{\\verb!x!}\\verb|columna| 2</script></html>"
      ],
      "text/plain": [
       "'Cal pivotar a la fila ' 0 ' i a la columna ' 2"
      ]
     },
     "metadata": {},
     "output_type": "display_data"
    },
    {
     "data": {
      "text/html": [
       "<html><script type=\"math/tex; mode=display\">\\newcommand{\\Bold}[1]{\\mathbf{#1}}\\left(\\begin{array}{rrrrrrr}\n",
       "0 & 0 & 1 & 1 & 1 & 0 & 1 \\\\\n",
       "0 & 1 & 0 & 1 & 0 & -1 & 2 \\\\\n",
       "1 & 0 & 0 & -1 & -1 & 1 & 0 \\\\\n",
       "0 & 0 & 0 & 3 & 5 & -1 & -2\n",
       "\\end{array}\\right)</script></html>"
      ],
      "text/plain": [
       "[ 0  0  1  1  1  0  1]\n",
       "[ 0  1  0  1  0 -1  2]\n",
       "[ 1  0  0 -1 -1  1  0]\n",
       "[ 0  0  0  3  5 -1 -2]"
      ]
     },
     "metadata": {},
     "output_type": "display_data"
    },
    {
     "data": {
      "text/html": [
       "<html><script type=\"math/tex; mode=display\">\\newcommand{\\Bold}[1]{\\mathbf{#1}}\\left[0, 1, 2\\right]</script></html>"
      ],
      "text/plain": [
       "[0, 1, 2]"
      ]
     },
     "metadata": {},
     "output_type": "display_data"
    },
    {
     "data": {
      "text/html": [
       "<html><script type=\"math/tex; mode=display\">\\newcommand{\\Bold}[1]{\\mathbf{#1}}\\verb|Cal|\\phantom{\\verb!x!}\\verb|pivotar|\\phantom{\\verb!x!}\\verb|a|\\phantom{\\verb!x!}\\verb|la|\\phantom{\\verb!x!}\\verb|fila| 2 \\phantom{\\verb!x!}\\verb|i|\\phantom{\\verb!x!}\\verb|a|\\phantom{\\verb!x!}\\verb|la|\\phantom{\\verb!x!}\\verb|columna| 5</script></html>"
      ],
      "text/plain": [
       "'Cal pivotar a la fila ' 2 ' i a la columna ' 5"
      ]
     },
     "metadata": {},
     "output_type": "display_data"
    },
    {
     "data": {
      "text/html": [
       "<html><script type=\"math/tex; mode=display\">\\newcommand{\\Bold}[1]{\\mathbf{#1}}\\left(\\verb|criteri|\\phantom{\\verb!x!}\\verb|de|\\phantom{\\verb!x!}\\verb|millora|, 2, 5\\right)</script></html>"
      ],
      "text/plain": [
       "('criteri de millora', 2, 5)"
      ]
     },
     "metadata": {},
     "output_type": "display_data"
    },
    {
     "data": {
      "text/html": [
       "<html><script type=\"math/tex; mode=display\">\\newcommand{\\Bold}[1]{\\mathbf{#1}}\\left(\\begin{array}{rrrrrrr}\n",
       "0 & 0 & 1 & 1 & 1 & 0 & 1 \\\\\n",
       "1 & 1 & 0 & 0 & -1 & 0 & 2 \\\\\n",
       "1 & 0 & 0 & -1 & -1 & 1 & 0 \\\\\n",
       "1 & 0 & 0 & 2 & 4 & 0 & -2\n",
       "\\end{array}\\right)</script></html>"
      ],
      "text/plain": [
       "[ 0  0  1  1  1  0  1]\n",
       "[ 1  1  0  0 -1  0  2]\n",
       "[ 1  0  0 -1 -1  1  0]\n",
       "[ 1  0  0  2  4  0 -2]"
      ]
     },
     "metadata": {},
     "output_type": "display_data"
    },
    {
     "data": {
      "text/html": [
       "<html><script type=\"math/tex; mode=display\">\\newcommand{\\Bold}[1]{\\mathbf{#1}}\\left[1, 2, 5\\right]</script></html>"
      ],
      "text/plain": [
       "[1, 2, 5]"
      ]
     },
     "metadata": {},
     "output_type": "display_data"
    },
    {
     "data": {
      "text/html": [
       "<html><script type=\"math/tex; mode=display\">\\newcommand{\\Bold}[1]{\\mathbf{#1}}\\verb|Valor|\\phantom{\\verb!x!}\\verb|òptim|\\phantom{\\verb!x!}\\verb|de|\\phantom{\\verb!x!}\\verb|la|\\phantom{\\verb!x!}\\verb|funció|\\phantom{\\verb!x!}\\verb|objectiu|\\phantom{\\verb!x!}\\verb|-->| 2</script></html>"
      ],
      "text/plain": [
       "'Valor òptim de la funció objectiu --> ' 2"
      ]
     },
     "metadata": {},
     "output_type": "display_data"
    },
    {
     "data": {
      "text/html": [
       "<html><script type=\"math/tex; mode=display\">\\newcommand{\\Bold}[1]{\\mathbf{#1}}\\verb|Punt|\\phantom{\\verb!x!}\\verb|optimal|\\phantom{\\verb!x!}\\verb|-->| \\left[0, 2, 1, 0, 0, 0\\right]</script></html>"
      ],
      "text/plain": [
       "'Punt optimal --> ' [0, 2, 1, 0, 0, 0]"
      ]
     },
     "metadata": {},
     "output_type": "display_data"
    },
    {
     "data": {
      "text/html": [
       "<html><script type=\"math/tex; mode=display\">\\newcommand{\\Bold}[1]{\\mathbf{#1}}\\left(\\verb|criteri|\\phantom{\\verb!x!}\\verb|d'optimalitat|, 2, \\left[0, 2, 1, 0, 0, 0\\right]\\right)</script></html>"
      ],
      "text/plain": [
       "(\"criteri d'optimalitat\", 2, [0, 2, 1, 0, 0, 0])"
      ]
     },
     "metadata": {},
     "output_type": "display_data"
    },
    {
     "data": {
      "text/html": [
       "<html><script type=\"math/tex; mode=display\">\\newcommand{\\Bold}[1]{\\mathbf{#1}}\\left(\\begin{array}{rrrrrrr}\n",
       "0 & 0 & 1 & 1 & 1 & 0 & 1 \\\\\n",
       "1 & 1 & 0 & 0 & -1 & 0 & 2 \\\\\n",
       "1 & 0 & 0 & -1 & -1 & 1 & 0 \\\\\n",
       "1 & 0 & 0 & 2 & 4 & 0 & -2\n",
       "\\end{array}\\right)</script></html>"
      ],
      "text/plain": [
       "[ 0  0  1  1  1  0  1]\n",
       "[ 1  1  0  0 -1  0  2]\n",
       "[ 1  0  0 -1 -1  1  0]\n",
       "[ 1  0  0  2  4  0 -2]"
      ]
     },
     "metadata": {},
     "output_type": "display_data"
    }
   ],
   "source": [
    "B = faseII(B, [3,1,0])\n",
    "show(B)"
   ]
  },
  {
   "cell_type": "markdown",
   "metadata": {},
   "source": [
    "El valor de òptim de la funció objectiu és 2.\n",
    "El punt òptim és (0,2,1)."
   ]
  },
  {
   "cell_type": "code",
   "execution_count": 33,
   "metadata": {},
   "outputs": [
    {
     "data": {
      "text/html": [
       "<html><script type=\"math/tex; mode=display\">\\newcommand{\\Bold}[1]{\\mathbf{#1}}\\left(\\begin{array}{rrrrrrr}\n",
       "1 & -2 & 1 & 1 & 0 & 0 & 14 \\\\\n",
       "6 & -1 & -2 & 0 & 1 & 0 & -2 \\\\\n",
       "-2 & -2 & 1 & 0 & 0 & 1 & 1\n",
       "\\end{array}\\right)</script></html>"
      ],
      "text/plain": [
       "[ 1 -2  1  1  0  0 14]\n",
       "[ 6 -1 -2  0  1  0 -2]\n",
       "[-2 -2  1  0  0  1  1]"
      ]
     },
     "metadata": {},
     "output_type": "display_data"
    }
   ],
   "source": [
    "# c)\n",
    "# El posem en forma estandard\n",
    "C = Matrix(QQ, [[1,-2,1,1,0,0,14],[6,-1,-2,0,1,0,-2],[-2,-2,1,0,0,1,1]])\n",
    "show(C)\n"
   ]
  },
  {
   "cell_type": "code",
   "execution_count": 34,
   "metadata": {},
   "outputs": [
    {
     "data": {
      "text/html": [
       "<html><script type=\"math/tex; mode=display\">\\newcommand{\\Bold}[1]{\\mathbf{#1}}1</script></html>"
      ],
      "text/plain": [
       "1"
      ]
     },
     "metadata": {},
     "output_type": "display_data"
    }
   ],
   "source": [
    "#Mirem si està actualitzat\n",
    "show(actualitzada(C,[0,1,2]))          "
   ]
  },
  {
   "cell_type": "code",
   "execution_count": 35,
   "metadata": {
    "scrolled": true
   },
   "outputs": [
    {
     "data": {
      "text/html": [
       "<html><script type=\"math/tex; mode=display\">\\newcommand{\\Bold}[1]{\\mathbf{#1}}\\verb|Cal|\\phantom{\\verb!x!}\\verb|pivotar|\\phantom{\\verb!x!}\\verb|a|\\phantom{\\verb!x!}\\verb|la|\\phantom{\\verb!x!}\\verb|fila| 1 \\phantom{\\verb!x!}\\verb|i|\\phantom{\\verb!x!}\\verb|a|\\phantom{\\verb!x!}\\verb|la|\\phantom{\\verb!x!}\\verb|columna| 0</script></html>"
      ],
      "text/plain": [
       "'Cal pivotar a la fila ' 1 ' i a la columna ' 0"
      ]
     },
     "metadata": {},
     "output_type": "display_data"
    },
    {
     "data": {
      "text/html": [
       "<html><script type=\"math/tex; mode=display\">\\newcommand{\\Bold}[1]{\\mathbf{#1}}\\left(\\begin{array}{rrrrrrr}\n",
       "0 & -\\frac{11}{6} & \\frac{4}{3} & 1 & -\\frac{1}{6} & 0 & \\frac{43}{3} \\\\\n",
       "1 & -\\frac{1}{6} & -\\frac{1}{3} & 0 & \\frac{1}{6} & 0 & -\\frac{1}{3} \\\\\n",
       "0 & -\\frac{7}{3} & \\frac{1}{3} & 0 & \\frac{1}{3} & 1 & \\frac{1}{3} \\\\\n",
       "0 & \\frac{1}{6} & -\\frac{2}{3} & 0 & \\frac{5}{6} & 0 & -\\frac{5}{3}\n",
       "\\end{array}\\right)</script></html>"
      ],
      "text/plain": [
       "[    0 -11/6   4/3     1  -1/6     0  43/3]\n",
       "[    1  -1/6  -1/3     0   1/6     0  -1/3]\n",
       "[    0  -7/3   1/3     0   1/3     1   1/3]\n",
       "[    0   1/6  -2/3     0   5/6     0  -5/3]"
      ]
     },
     "metadata": {},
     "output_type": "display_data"
    },
    {
     "data": {
      "text/html": [
       "<html><script type=\"math/tex; mode=display\">\\newcommand{\\Bold}[1]{\\mathbf{#1}}\\left[0, 3, 5\\right]</script></html>"
      ],
      "text/plain": [
       "[0, 3, 5]"
      ]
     },
     "metadata": {},
     "output_type": "display_data"
    },
    {
     "data": {
      "text/html": [
       "<html><script type=\"math/tex; mode=display\">\\newcommand{\\Bold}[1]{\\mathbf{#1}}\\verb|Cal|\\phantom{\\verb!x!}\\verb|pivotar|\\phantom{\\verb!x!}\\verb|a|\\phantom{\\verb!x!}\\verb|la|\\phantom{\\verb!x!}\\verb|fila| 2 \\phantom{\\verb!x!}\\verb|i|\\phantom{\\verb!x!}\\verb|a|\\phantom{\\verb!x!}\\verb|la|\\phantom{\\verb!x!}\\verb|columna| 2</script></html>"
      ],
      "text/plain": [
       "'Cal pivotar a la fila ' 2 ' i a la columna ' 2"
      ]
     },
     "metadata": {},
     "output_type": "display_data"
    },
    {
     "data": {
      "text/html": [
       "<html><script type=\"math/tex; mode=display\">\\newcommand{\\Bold}[1]{\\mathbf{#1}}\\left(\\verb|criteri|\\phantom{\\verb!x!}\\verb|de|\\phantom{\\verb!x!}\\verb|millora|, 2, 2\\right)</script></html>"
      ],
      "text/plain": [
       "('criteri de millora', 2, 2)"
      ]
     },
     "metadata": {},
     "output_type": "display_data"
    },
    {
     "data": {
      "text/html": [
       "<html><script type=\"math/tex; mode=display\">\\newcommand{\\Bold}[1]{\\mathbf{#1}}\\left(\\begin{array}{rrrrrrr}\n",
       "0 & \\frac{15}{2} & 0 & 1 & -\\frac{3}{2} & -4 & 13 \\\\\n",
       "1 & -\\frac{5}{2} & 0 & 0 & \\frac{1}{2} & 1 & 0 \\\\\n",
       "0 & -7 & 1 & 0 & 1 & 3 & 1 \\\\\n",
       "0 & -\\frac{9}{2} & 0 & 0 & \\frac{3}{2} & 2 & -1\n",
       "\\end{array}\\right)</script></html>"
      ],
      "text/plain": [
       "[   0 15/2    0    1 -3/2   -4   13]\n",
       "[   1 -5/2    0    0  1/2    1    0]\n",
       "[   0   -7    1    0    1    3    1]\n",
       "[   0 -9/2    0    0  3/2    2   -1]"
      ]
     },
     "metadata": {},
     "output_type": "display_data"
    },
    {
     "data": {
      "text/html": [
       "<html><script type=\"math/tex; mode=display\">\\newcommand{\\Bold}[1]{\\mathbf{#1}}\\left[0, 2, 3\\right]</script></html>"
      ],
      "text/plain": [
       "[0, 2, 3]"
      ]
     },
     "metadata": {},
     "output_type": "display_data"
    },
    {
     "data": {
      "text/html": [
       "<html><script type=\"math/tex; mode=display\">\\newcommand{\\Bold}[1]{\\mathbf{#1}}\\verb|Cal|\\phantom{\\verb!x!}\\verb|pivotar|\\phantom{\\verb!x!}\\verb|a|\\phantom{\\verb!x!}\\verb|la|\\phantom{\\verb!x!}\\verb|fila| 0 \\phantom{\\verb!x!}\\verb|i|\\phantom{\\verb!x!}\\verb|a|\\phantom{\\verb!x!}\\verb|la|\\phantom{\\verb!x!}\\verb|columna| 1</script></html>"
      ],
      "text/plain": [
       "'Cal pivotar a la fila ' 0 ' i a la columna ' 1"
      ]
     },
     "metadata": {},
     "output_type": "display_data"
    },
    {
     "data": {
      "text/html": [
       "<html><script type=\"math/tex; mode=display\">\\newcommand{\\Bold}[1]{\\mathbf{#1}}\\left(\\verb|criteri|\\phantom{\\verb!x!}\\verb|de|\\phantom{\\verb!x!}\\verb|millora|, 0, 1\\right)</script></html>"
      ],
      "text/plain": [
       "('criteri de millora', 0, 1)"
      ]
     },
     "metadata": {},
     "output_type": "display_data"
    },
    {
     "data": {
      "text/html": [
       "<html><script type=\"math/tex; mode=display\">\\newcommand{\\Bold}[1]{\\mathbf{#1}}\\left(\\begin{array}{rrrrrrr}\n",
       "0 & 1 & 0 & \\frac{2}{15} & -\\frac{1}{5} & -\\frac{8}{15} & \\frac{26}{15} \\\\\n",
       "1 & 0 & 0 & \\frac{1}{3} & 0 & -\\frac{1}{3} & \\frac{13}{3} \\\\\n",
       "0 & 0 & 1 & \\frac{14}{15} & -\\frac{2}{5} & -\\frac{11}{15} & \\frac{197}{15} \\\\\n",
       "0 & 0 & 0 & \\frac{3}{5} & \\frac{3}{5} & -\\frac{2}{5} & \\frac{34}{5}\n",
       "\\end{array}\\right)</script></html>"
      ],
      "text/plain": [
       "[     0      1      0   2/15   -1/5  -8/15  26/15]\n",
       "[     1      0      0    1/3      0   -1/3   13/3]\n",
       "[     0      0      1  14/15   -2/5 -11/15 197/15]\n",
       "[     0      0      0    3/5    3/5   -2/5   34/5]"
      ]
     },
     "metadata": {},
     "output_type": "display_data"
    },
    {
     "data": {
      "text/html": [
       "<html><script type=\"math/tex; mode=display\">\\newcommand{\\Bold}[1]{\\mathbf{#1}}\\left[0, 1, 2\\right]</script></html>"
      ],
      "text/plain": [
       "[0, 1, 2]"
      ]
     },
     "metadata": {},
     "output_type": "display_data"
    },
    {
     "data": {
      "text/html": [
       "<html><script type=\"math/tex; mode=display\">\\newcommand{\\Bold}[1]{\\mathbf{#1}}\\verb|criteri|\\phantom{\\verb!x!}\\verb|de|\\phantom{\\verb!x!}\\verb|no|\\phantom{\\verb!x!}\\verb|acotació|</script></html>"
      ],
      "text/plain": [
       "'criteri de no acotació'"
      ]
     },
     "metadata": {},
     "output_type": "display_data"
    },
    {
     "data": {
      "text/html": [
       "<html><script type=\"math/tex; mode=display\">\\newcommand{\\Bold}[1]{\\mathbf{#1}}\\left(\\begin{array}{rrrrrrr}\n",
       "0 & 1 & 0 & \\frac{2}{15} & -\\frac{1}{5} & -\\frac{8}{15} & \\frac{26}{15} \\\\\n",
       "1 & 0 & 0 & \\frac{1}{3} & 0 & -\\frac{1}{3} & \\frac{13}{3} \\\\\n",
       "0 & 0 & 1 & \\frac{14}{15} & -\\frac{2}{5} & -\\frac{11}{15} & \\frac{197}{15} \\\\\n",
       "0 & 0 & 0 & \\frac{3}{5} & \\frac{3}{5} & -\\frac{2}{5} & \\frac{34}{5}\n",
       "\\end{array}\\right)</script></html>"
      ],
      "text/plain": [
       "[     0      1      0   2/15   -1/5  -8/15  26/15]\n",
       "[     1      0      0    1/3      0   -1/3   13/3]\n",
       "[     0      0      1  14/15   -2/5 -11/15 197/15]\n",
       "[     0      0      0    3/5    3/5   -2/5   34/5]"
      ]
     },
     "metadata": {},
     "output_type": "display_data"
    }
   ],
   "source": [
    "# Com ja està actualitzada passem directament a la fase II\n",
    "C = Matrix(QQ, [[1,-2,1,1,0,0,14],[6,-1,-2,0,1,0,-2],[-2,-2,1,0,0,1,1],[-5,1,1,0,0,0,0]])\n",
    "c = faseII(C,[3,4,5])\n",
    "show(c)"
   ]
  },
  {
   "cell_type": "markdown",
   "metadata": {},
   "source": [
    "El sistema és no acotat."
   ]
  },
  {
   "cell_type": "code",
   "execution_count": 36,
   "metadata": {},
   "outputs": [
    {
     "data": {
      "text/html": [
       "<html><script type=\"math/tex; mode=display\">\\newcommand{\\Bold}[1]{\\mathbf{#1}}\\left(\\begin{array}{rrrrrr}\n",
       "2 & 1 & 0 & -1 & 0 & 4 \\\\\n",
       "3 & -1 & 1 & 0 & 1 & 5 \\\\\n",
       "5 & 2 & -1 & 0 & 0 & 0\n",
       "\\end{array}\\right)</script></html>"
      ],
      "text/plain": [
       "[ 2  1  0 -1  0  4]\n",
       "[ 3 -1  1  0  1  5]\n",
       "[ 5  2 -1  0  0  0]"
      ]
     },
     "metadata": {},
     "output_type": "display_data"
    }
   ],
   "source": [
    "# d\n",
    "\n",
    "# Posem la matriu estandar del sistema:\n",
    "# A la dreta els termes independents\n",
    "D = Matrix(QQ, [[2,1,0,-1,0,4], [3,-1,1,0,1,5], [5,2,-1,0,0,0]])\n",
    "show(D)"
   ]
  },
  {
   "cell_type": "code",
   "execution_count": 37,
   "metadata": {},
   "outputs": [
    {
     "data": {
      "text/html": [
       "<html><script type=\"math/tex; mode=display\">\\newcommand{\\Bold}[1]{\\mathbf{#1}}\\left(\\begin{array}{rrrrrrr}\n",
       "2 & 1 & 0 & -1 & 0 & 1 & 4 \\\\\n",
       "3 & -1 & 1 & 0 & 1 & 0 & 5 \\\\\n",
       "0 & 0 & 0 & 0 & 1 & 1 & 0\n",
       "\\end{array}\\right)</script></html>"
      ],
      "text/plain": [
       "[ 2  1  0 -1  0  1  4]\n",
       "[ 3 -1  1  0  1  0  5]\n",
       "[ 0  0  0  0  1  1  0]"
      ]
     },
     "metadata": {},
     "output_type": "display_data"
    }
   ],
   "source": [
    "#Preparem la fase I\n",
    "D = Matrix(QQ, [[2,1,0,-1,0,1,4], [3,-1,1,0,1,0,5], [0,0,0,0,1,1,0]])\n",
    "show(D)"
   ]
  },
  {
   "cell_type": "code",
   "execution_count": 38,
   "metadata": {},
   "outputs": [
    {
     "data": {
      "text/html": [
       "<html><script type=\"math/tex; mode=display\">\\newcommand{\\Bold}[1]{\\mathbf{#1}}\\left(\\begin{array}{rrrrrrr}\n",
       "2 & 1 & 0 & -1 & 0 & 1 & 4 \\\\\n",
       "3 & -1 & 1 & 0 & 1 & 0 & 5 \\\\\n",
       "-2 & -1 & 0 & 1 & 1 & 0 & -4\n",
       "\\end{array}\\right)</script></html>"
      ],
      "text/plain": [
       "[ 2  1  0 -1  0  1  4]\n",
       "[ 3 -1  1  0  1  0  5]\n",
       "[-2 -1  0  1  1  0 -4]"
      ]
     },
     "metadata": {},
     "output_type": "display_data"
    },
    {
     "data": {
      "text/html": [
       "<html><script type=\"math/tex; mode=display\">\\newcommand{\\Bold}[1]{\\mathbf{#1}}\\left(\\begin{array}{rrrrrrr}\n",
       "2 & 1 & 0 & -1 & 0 & 1 & 4 \\\\\n",
       "3 & -1 & 1 & 0 & 1 & 0 & 5 \\\\\n",
       "-5 & 0 & -1 & 1 & 0 & 0 & -9\n",
       "\\end{array}\\right)</script></html>"
      ],
      "text/plain": [
       "[ 2  1  0 -1  0  1  4]\n",
       "[ 3 -1  1  0  1  0  5]\n",
       "[-5  0 -1  1  0  0 -9]"
      ]
     },
     "metadata": {},
     "output_type": "display_data"
    }
   ],
   "source": [
    "#Actualitzem el sistema\n",
    "D = pivota(D, 0,5)\n",
    "show(D)\n",
    "D = pivota(D, 1,4)\n",
    "show(D)"
   ]
  },
  {
   "cell_type": "code",
   "execution_count": 39,
   "metadata": {
    "scrolled": true
   },
   "outputs": [
    {
     "data": {
      "text/html": [
       "<html><script type=\"math/tex; mode=display\">\\newcommand{\\Bold}[1]{\\mathbf{#1}}\\verb|Cal|\\phantom{\\verb!x!}\\verb|pivotar|\\phantom{\\verb!x!}\\verb|a|\\phantom{\\verb!x!}\\verb|la|\\phantom{\\verb!x!}\\verb|fila| 1 \\phantom{\\verb!x!}\\verb|i|\\phantom{\\verb!x!}\\verb|a|\\phantom{\\verb!x!}\\verb|la|\\phantom{\\verb!x!}\\verb|columna| 0</script></html>"
      ],
      "text/plain": [
       "'Cal pivotar a la fila ' 1 ' i a la columna ' 0"
      ]
     },
     "metadata": {},
     "output_type": "display_data"
    },
    {
     "data": {
      "text/html": [
       "<html><script type=\"math/tex; mode=display\">\\newcommand{\\Bold}[1]{\\mathbf{#1}}\\left(\\begin{array}{rrrrrrr}\n",
       "0 & \\frac{5}{3} & -\\frac{2}{3} & -1 & -\\frac{2}{3} & 1 & \\frac{2}{3} \\\\\n",
       "1 & -\\frac{1}{3} & \\frac{1}{3} & 0 & \\frac{1}{3} & 0 & \\frac{5}{3} \\\\\n",
       "0 & -\\frac{5}{3} & \\frac{2}{3} & 1 & \\frac{5}{3} & 0 & -\\frac{2}{3}\n",
       "\\end{array}\\right)</script></html>"
      ],
      "text/plain": [
       "[   0  5/3 -2/3   -1 -2/3    1  2/3]\n",
       "[   1 -1/3  1/3    0  1/3    0  5/3]\n",
       "[   0 -5/3  2/3    1  5/3    0 -2/3]"
      ]
     },
     "metadata": {},
     "output_type": "display_data"
    },
    {
     "data": {
      "text/html": [
       "<html><script type=\"math/tex; mode=display\">\\newcommand{\\Bold}[1]{\\mathbf{#1}}\\left[0, 5\\right]</script></html>"
      ],
      "text/plain": [
       "[0, 5]"
      ]
     },
     "metadata": {},
     "output_type": "display_data"
    },
    {
     "data": {
      "text/html": [
       "<html><script type=\"math/tex; mode=display\">\\newcommand{\\Bold}[1]{\\mathbf{#1}}\\verb|Cal|\\phantom{\\verb!x!}\\verb|pivotar|\\phantom{\\verb!x!}\\verb|a|\\phantom{\\verb!x!}\\verb|la|\\phantom{\\verb!x!}\\verb|fila| 0 \\phantom{\\verb!x!}\\verb|i|\\phantom{\\verb!x!}\\verb|a|\\phantom{\\verb!x!}\\verb|la|\\phantom{\\verb!x!}\\verb|columna| 1</script></html>"
      ],
      "text/plain": [
       "'Cal pivotar a la fila ' 0 ' i a la columna ' 1"
      ]
     },
     "metadata": {},
     "output_type": "display_data"
    },
    {
     "data": {
      "text/html": [
       "<html><script type=\"math/tex; mode=display\">\\newcommand{\\Bold}[1]{\\mathbf{#1}}\\left(\\verb|criteri|\\phantom{\\verb!x!}\\verb|de|\\phantom{\\verb!x!}\\verb|millora|, 0, 1\\right)</script></html>"
      ],
      "text/plain": [
       "('criteri de millora', 0, 1)"
      ]
     },
     "metadata": {},
     "output_type": "display_data"
    },
    {
     "data": {
      "text/html": [
       "<html><script type=\"math/tex; mode=display\">\\newcommand{\\Bold}[1]{\\mathbf{#1}}\\left(\\begin{array}{rrrrrrr}\n",
       "0 & 1 & -\\frac{2}{5} & -\\frac{3}{5} & -\\frac{2}{5} & \\frac{3}{5} & \\frac{2}{5} \\\\\n",
       "1 & 0 & \\frac{1}{5} & -\\frac{1}{5} & \\frac{1}{5} & \\frac{1}{5} & \\frac{9}{5} \\\\\n",
       "0 & 0 & 0 & 0 & 1 & 1 & 0\n",
       "\\end{array}\\right)</script></html>"
      ],
      "text/plain": [
       "[   0    1 -2/5 -3/5 -2/5  3/5  2/5]\n",
       "[   1    0  1/5 -1/5  1/5  1/5  9/5]\n",
       "[   0    0    0    0    1    1    0]"
      ]
     },
     "metadata": {},
     "output_type": "display_data"
    },
    {
     "data": {
      "text/html": [
       "<html><script type=\"math/tex; mode=display\">\\newcommand{\\Bold}[1]{\\mathbf{#1}}\\left[0, 1\\right]</script></html>"
      ],
      "text/plain": [
       "[0, 1]"
      ]
     },
     "metadata": {},
     "output_type": "display_data"
    },
    {
     "data": {
      "text/html": [
       "<html><script type=\"math/tex; mode=display\">\\newcommand{\\Bold}[1]{\\mathbf{#1}}\\verb|Valor|\\phantom{\\verb!x!}\\verb|òptim|\\phantom{\\verb!x!}\\verb|de|\\phantom{\\verb!x!}\\verb|la|\\phantom{\\verb!x!}\\verb|funció|\\phantom{\\verb!x!}\\verb|objectiu|\\phantom{\\verb!x!}\\verb|-->| 0</script></html>"
      ],
      "text/plain": [
       "'Valor òptim de la funció objectiu --> ' 0"
      ]
     },
     "metadata": {},
     "output_type": "display_data"
    },
    {
     "data": {
      "text/html": [
       "<html><script type=\"math/tex; mode=display\">\\newcommand{\\Bold}[1]{\\mathbf{#1}}\\verb|Punt|\\phantom{\\verb!x!}\\verb|optimal|\\phantom{\\verb!x!}\\verb|-->| \\left[\\frac{9}{5}, \\frac{2}{5}, 0, 0, 0, 0\\right]</script></html>"
      ],
      "text/plain": [
       "'Punt optimal --> ' [9/5, 2/5, 0, 0, 0, 0]"
      ]
     },
     "metadata": {},
     "output_type": "display_data"
    },
    {
     "data": {
      "text/html": [
       "<html><script type=\"math/tex; mode=display\">\\newcommand{\\Bold}[1]{\\mathbf{#1}}\\left(\\verb|criteri|\\phantom{\\verb!x!}\\verb|d'optimalitat|, 0, \\left[\\frac{9}{5}, \\frac{2}{5}, 0, 0, 0, 0\\right]\\right)</script></html>"
      ],
      "text/plain": [
       "(\"criteri d'optimalitat\", 0, [9/5, 2/5, 0, 0, 0, 0])"
      ]
     },
     "metadata": {},
     "output_type": "display_data"
    },
    {
     "data": {
      "text/html": [
       "<html><script type=\"math/tex; mode=display\">\\newcommand{\\Bold}[1]{\\mathbf{#1}}\\left(\\begin{array}{rrrrrrr}\n",
       "0 & 1 & -\\frac{2}{5} & -\\frac{3}{5} & -\\frac{2}{5} & \\frac{3}{5} & \\frac{2}{5} \\\\\n",
       "1 & 0 & \\frac{1}{5} & -\\frac{1}{5} & \\frac{1}{5} & \\frac{1}{5} & \\frac{9}{5} \\\\\n",
       "0 & 0 & 0 & 0 & 1 & 1 & 0\n",
       "\\end{array}\\right)</script></html>"
      ],
      "text/plain": [
       "[   0    1 -2/5 -3/5 -2/5  3/5  2/5]\n",
       "[   1    0  1/5 -1/5  1/5  1/5  9/5]\n",
       "[   0    0    0    0    1    1    0]"
      ]
     },
     "metadata": {},
     "output_type": "display_data"
    }
   ],
   "source": [
    "#Fase I\n",
    "D = faseII(D,[5,4])\n",
    "show(D)"
   ]
  },
  {
   "cell_type": "markdown",
   "metadata": {},
   "source": [
    "Com el valor de la funció objectiu és 0, podem seguir amb la fase II."
   ]
  },
  {
   "cell_type": "code",
   "execution_count": 40,
   "metadata": {},
   "outputs": [
    {
     "data": {
      "text/html": [
       "<html><script type=\"math/tex; mode=display\">\\newcommand{\\Bold}[1]{\\mathbf{#1}}\\left(\\begin{array}{rrrrrr}\n",
       "0 & 1 & -\\frac{2}{5} & -\\frac{3}{5} & -\\frac{2}{5} & \\frac{2}{5} \\\\\n",
       "1 & 0 & \\frac{1}{5} & -\\frac{1}{5} & \\frac{1}{5} & \\frac{9}{5} \\\\\n",
       "5 & 2 & -1 & 0 & 0 & 0\n",
       "\\end{array}\\right)</script></html>"
      ],
      "text/plain": [
       "[   0    1 -2/5 -3/5 -2/5  2/5]\n",
       "[   1    0  1/5 -1/5  1/5  9/5]\n",
       "[   5    2   -1    0    0    0]"
      ]
     },
     "metadata": {},
     "output_type": "display_data"
    }
   ],
   "source": [
    "D = Matrix(QQ, [[0,1,-2/5,-3/5,-2/5,2/5], [1,0,1/5,-1/5,1/5,9/5], [5,2,-1,0,0,0]])\n",
    "show(D)"
   ]
  },
  {
   "cell_type": "code",
   "execution_count": 41,
   "metadata": {},
   "outputs": [],
   "source": [
    "#Actualitzem\n",
    "D = pivota(D,0,1)\n",
    "D = pivota(D,1,0)"
   ]
  },
  {
   "cell_type": "code",
   "execution_count": 42,
   "metadata": {},
   "outputs": [
    {
     "data": {
      "text/html": [
       "<html><script type=\"math/tex; mode=display\">\\newcommand{\\Bold}[1]{\\mathbf{#1}}\\verb|Cal|\\phantom{\\verb!x!}\\verb|pivotar|\\phantom{\\verb!x!}\\verb|a|\\phantom{\\verb!x!}\\verb|la|\\phantom{\\verb!x!}\\verb|fila| 1 \\phantom{\\verb!x!}\\verb|i|\\phantom{\\verb!x!}\\verb|a|\\phantom{\\verb!x!}\\verb|la|\\phantom{\\verb!x!}\\verb|columna| 2</script></html>"
      ],
      "text/plain": [
       "'Cal pivotar a la fila ' 1 ' i a la columna ' 2"
      ]
     },
     "metadata": {},
     "output_type": "display_data"
    },
    {
     "data": {
      "text/html": [
       "<html><script type=\"math/tex; mode=display\">\\newcommand{\\Bold}[1]{\\mathbf{#1}}\\left(\\begin{array}{rrrrrr}\n",
       "2 & 1 & 0 & -1 & 0 & 4 \\\\\n",
       "5 & 0 & 1 & -1 & 1 & 9 \\\\\n",
       "6 & 0 & 0 & 1 & 1 & 1\n",
       "\\end{array}\\right)</script></html>"
      ],
      "text/plain": [
       "[ 2  1  0 -1  0  4]\n",
       "[ 5  0  1 -1  1  9]\n",
       "[ 6  0  0  1  1  1]"
      ]
     },
     "metadata": {},
     "output_type": "display_data"
    },
    {
     "data": {
      "text/html": [
       "<html><script type=\"math/tex; mode=display\">\\newcommand{\\Bold}[1]{\\mathbf{#1}}\\left[1, 2\\right]</script></html>"
      ],
      "text/plain": [
       "[1, 2]"
      ]
     },
     "metadata": {},
     "output_type": "display_data"
    },
    {
     "data": {
      "text/html": [
       "<html><script type=\"math/tex; mode=display\">\\newcommand{\\Bold}[1]{\\mathbf{#1}}\\verb|Valor|\\phantom{\\verb!x!}\\verb|òptim|\\phantom{\\verb!x!}\\verb|de|\\phantom{\\verb!x!}\\verb|la|\\phantom{\\verb!x!}\\verb|funció|\\phantom{\\verb!x!}\\verb|objectiu|\\phantom{\\verb!x!}\\verb|-->| -1</script></html>"
      ],
      "text/plain": [
       "'Valor òptim de la funció objectiu --> ' -1"
      ]
     },
     "metadata": {},
     "output_type": "display_data"
    },
    {
     "data": {
      "text/html": [
       "<html><script type=\"math/tex; mode=display\">\\newcommand{\\Bold}[1]{\\mathbf{#1}}\\verb|Punt|\\phantom{\\verb!x!}\\verb|optimal|\\phantom{\\verb!x!}\\verb|-->| \\left[0, 4, 9, 0, 0\\right]</script></html>"
      ],
      "text/plain": [
       "'Punt optimal --> ' [0, 4, 9, 0, 0]"
      ]
     },
     "metadata": {},
     "output_type": "display_data"
    },
    {
     "data": {
      "text/html": [
       "<html><script type=\"math/tex; mode=display\">\\newcommand{\\Bold}[1]{\\mathbf{#1}}\\left(\\verb|criteri|\\phantom{\\verb!x!}\\verb|d'optimalitat|, -1, \\left[0, 4, 9, 0, 0\\right]\\right)</script></html>"
      ],
      "text/plain": [
       "(\"criteri d'optimalitat\", -1, [0, 4, 9, 0, 0])"
      ]
     },
     "metadata": {},
     "output_type": "display_data"
    },
    {
     "data": {
      "text/html": [
       "<html><script type=\"math/tex; mode=display\">\\newcommand{\\Bold}[1]{\\mathbf{#1}}\\left(\\begin{array}{rrrrrr}\n",
       "2 & 1 & 0 & -1 & 0 & 4 \\\\\n",
       "5 & 0 & 1 & -1 & 1 & 9 \\\\\n",
       "6 & 0 & 0 & 1 & 1 & 1\n",
       "\\end{array}\\right)</script></html>"
      ],
      "text/plain": [
       "[ 2  1  0 -1  0  4]\n",
       "[ 5  0  1 -1  1  9]\n",
       "[ 6  0  0  1  1  1]"
      ]
     },
     "metadata": {},
     "output_type": "display_data"
    }
   ],
   "source": [
    "d = faseII(D,[1,0])\n",
    "show(d)"
   ]
  },
  {
   "cell_type": "markdown",
   "metadata": {},
   "source": [
    "El valor òptim de la funció objectiu és -1. El punt òptim és (0,4,9)."
   ]
  }
 ],
 "metadata": {
  "kernelspec": {
   "display_name": "SageMath 9.1",
   "language": "sage",
   "name": "sagemath"
  },
  "language_info": {
   "codemirror_mode": {
    "name": "ipython",
    "version": 3
   },
   "file_extension": ".py",
   "mimetype": "text/x-python",
   "name": "python",
   "nbconvert_exporter": "python",
   "pygments_lexer": "ipython3",
   "version": "3.7.3"
  }
 },
 "nbformat": 4,
 "nbformat_minor": 2
}
