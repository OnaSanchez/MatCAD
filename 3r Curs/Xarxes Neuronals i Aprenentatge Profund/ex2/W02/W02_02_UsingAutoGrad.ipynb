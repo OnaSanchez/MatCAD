{
  "cells": [
    {
      "cell_type": "markdown",
      "metadata": {
        "id": "bNlfz987p12w"
      },
      "source": [
        "# Regression and classification using our AutoGrad library"
      ]
    },
    {
      "cell_type": "markdown",
      "metadata": {
        "id": "VU-rnMFip12y"
      },
      "source": [
        "First, we will import the latest version of our AutoGrad framework, as it resulted from the previous exercise"
      ]
    },
    {
      "cell_type": "code",
      "execution_count": 1,
      "metadata": {
        "id": "7LOM2MIbp12y"
      },
      "outputs": [],
      "source": [
        "import numpy as np"
      ]
    },
    {
      "cell_type": "code",
      "execution_count": 2,
      "metadata": {
        "id": "HJPPICe5p12z"
      },
      "outputs": [],
      "source": [
        "def vAdd(A, B): # Addition\n",
        "    A = _ensureVariable(A)\n",
        "    B = _ensureVariable(B)\n",
        "    result = Variable(A.value + B.value) # Create a new Variable to store the result, and pass it the value = a + b\n",
        "          \n",
        "    #keep track of the parent variables, and of the local derivative associated with each one\n",
        "    if A.requiresGrad:\n",
        "        result.requiresGrad = True; # if any of the parent variables requires grad, the result should also require it\n",
        "        def gradfn(route_val):\n",
        "            return route_val # == route_val * 1, as here dresult / dA = 1\n",
        "        result.gradRoutes.append((A, gradfn)) \n",
        "    if B.requiresGrad:\n",
        "        result.requiresGrad = True; # if any of the parent variables requires grad, the result should also require it\n",
        "        def gradfn(route_val):\n",
        "            return route_val # == route_val * 1, as here dresult / dA = 1\n",
        "        result.gradRoutes.append((B, gradfn))\n",
        "    \n",
        "    return result\n",
        "    \n",
        "def vMul(A, B): # Addition\n",
        "    A = _ensureVariable(A)\n",
        "    B = _ensureVariable(B)    \n",
        "    result = Variable(A.value * B.value) # Create a new Variable to store the result, and pass it the value = a + b\n",
        "          \n",
        "    #keep track of the parent variables, and of the local derivative associated with each one\n",
        "    if A.requiresGrad:\n",
        "        result.requiresGrad = True; # if any of the parent variables requires grad, the result should also require it\n",
        "        def gradfn(route_val):\n",
        "            return route_val * B.value # dresult / dA = B\n",
        "        result.gradRoutes.append((A, gradfn)) \n",
        "    if B.requiresGrad:\n",
        "        result.requiresGrad = True; # if any of the parent variables requires grad, the result should also require it\n",
        "        def gradfn(route_val):\n",
        "            return route_val * A.value # dresult / dB = A\n",
        "        result.gradRoutes.append((B, gradfn)) \n",
        "    \n",
        "    return result\n",
        "\n",
        "#Pointwise raise to power\n",
        "def vPow(A, exponent: float):\n",
        "    A = _ensureVariable(A)\n",
        "    result = Variable(np.float_power(A.value, exponent))\n",
        "    \n",
        "    if A.requiresGrad:\n",
        "        result.requiresGrad = True; # if any of our dependencies requires grad, we should also require it\n",
        "        result.grad = 0.0 # initialise to zero\n",
        "        def gradfn(route_val):\n",
        "            return route_val * exponent*np.float_power(A.value, exponent-1)\n",
        "        result.gradRoutes.append((A, gradfn))\n",
        "        \n",
        "    return result\n",
        "    \n",
        "#Pointwise exp()\n",
        "def vExp(A):\n",
        "    A = _ensureVariable(A)\n",
        "    result = Variable(np.exp(A.value))\n",
        "    \n",
        "    if A.requiresGrad:\n",
        "        result.requiresGrad = True; # if any of our dependencies requires grad, we should also require it\n",
        "        result.grad = 0.0 # initialise to zero\n",
        "        def gradfn(route_val):\n",
        "            return route_val * np.exp(A.value)\n",
        "        result.gradRoutes.append((A, gradfn))\n",
        "\n",
        "    return result\n",
        "                    \n",
        "#Pointwise Log\n",
        "def vLog(A):\n",
        "    A = _ensureVariable(A)\n",
        "    result = Variable(np.log(A.value))\n",
        "    \n",
        "    if A.requiresGrad:\n",
        "        result.requiresGrad = True; # if any of our dependencies requires grad, we should also require it\n",
        "        result.grad = 0.0 # initialise to zero\n",
        "        def gradfn(route_val):\n",
        "            return route_val/A.value\n",
        "        result.gradRoutes.append((A, gradfn))\n",
        "\n",
        "    return result"
      ]
    },
    {
      "cell_type": "code",
      "execution_count": 3,
      "metadata": {
        "id": "Jje2gwznp120"
      },
      "outputs": [],
      "source": [
        "def _ensureVariable(x):\n",
        "    if isinstance(x, Variable):\n",
        "        return x\n",
        "    elif isinstance(x, int) or isinstance(x, float):\n",
        "        return Variable(x)\n",
        "    else:\n",
        "        raise TypeError(\"We do not know how to convert variable of type {} to <class '__main__.Variable'>\".format(type(x)))"
      ]
    },
    {
      "cell_type": "code",
      "execution_count": 4,
      "metadata": {
        "id": "aFKBOWBGp120"
      },
      "outputs": [],
      "source": [
        "class Variable: #Simple variable. These are the leafs of our tree, they can request to have a gradient calculated, or not\n",
        "    def __init__(self, value, requiresGrad = False):\n",
        "        self.value = value\n",
        "        self.gradRoutes = [] # A variable by default has no grad Routes (was not created by anything, just defined)\n",
        "        self.grad = 0.0\n",
        "        self.requiresGrad = requiresGrad\n",
        "    \n",
        "    def backProp(self, route_val = 1.0):\n",
        "        # Add together the incoming gradients from the different routes that lead to a node - this will be the final gradient for the node\n",
        "        self.grad += route_val\n",
        "                \n",
        "        # For every parent variable and corresponding local derivative value that we have in the gradRoutes, continue with the gradient calculation\n",
        "        for variable, gradfn in self.gradRoutes:\n",
        "            # Call the gradfn() of each of the variables in our gradRouts passing the incoming gradient, and continue the backpropagation with the returned value\n",
        "            variable.backProp(gradfn(route_val))\n",
        "\n",
        "    def zeroGrad(self):\n",
        "        self.grad = 0.0\n",
        "        \n",
        "    def zeroGradsRecursively(self):\n",
        "        self.zeroGrad()\n",
        "        for variable, _ in self.gradRoutes:\n",
        "            variable.zeroGradsRecursively()\n",
        "            \n",
        "    def __add__(self, b):\n",
        "        return vAdd(self, b)\n",
        "\n",
        "    def __radd__(self, b):\n",
        "        return vAdd(self, b)\n",
        "    \n",
        "    def __sub__(self, b):\n",
        "        return vAdd(self, vMul(b, Variable(-1.0)))\n",
        "\n",
        "    def __rsub__(self, b):\n",
        "        return vAdd(b, -1 * self)\n",
        "    \n",
        "    def __mul__(self, b):\n",
        "        return vMul(self, b)\n",
        "    \n",
        "    def __rmul__(self, b): # BE CAREFUL WITH THIS ONE. While we deal with scalars, order is not a problem, when we deal with matrices, this will\n",
        "        return vMul(self, b)\n",
        "    \n",
        "    def __pow__(self, exponent):\n",
        "        return vPow(self, exponent)\n",
        "    \n",
        "    def __truediv__(self, b):\n",
        "        return vMul(self, pow(b, -1.0))\n",
        "    \n",
        "    def __rtruediv__(self, b):\n",
        "        return vMul(b, pow(self, -1.0))\n",
        "    \n",
        "    def __neg__(self):\n",
        "        return -1 * self\n",
        " \n",
        "    def __str__(self):\n",
        "        if self.requiresGrad:\n",
        "            return 'Value: {self.value}, Gradient: {self.grad}'.format(self=self)\n",
        "        else:\n",
        "            return 'Value: {self.value}, Gradient not required'.format(self=self)"
      ]
    },
    {
      "cell_type": "markdown",
      "metadata": {
        "id": "zrwbAgjrp121"
      },
      "source": [
        "Now we are ready to apply AutoGrad in different scenarios."
      ]
    },
    {
      "cell_type": "markdown",
      "metadata": {
        "id": "EAL80i3Up121"
      },
      "source": [
        "## Polynomial Regression"
      ]
    },
    {
      "cell_type": "markdown",
      "metadata": {
        "id": "AL7gvNzZp121"
      },
      "source": [
        "We will use our AutoGrad framework to implement polynomial regression. First, let's create some noisy training data for the function $y = w_0 + w_1*x + w_2*x^2$ for some values of the weights $w$ ($w_0$ is the bias term). We will then try to estimate these values from the data."
      ]
    },
    {
      "cell_type": "code",
      "execution_count": 5,
      "metadata": {
        "id": "9WtaCueJp121"
      },
      "outputs": [],
      "source": [
        "m = 100 # number of training points\n",
        "w = [-1.0, 2.0, 1.0] # These are the true values for our weights that we will then try to estimate from the data\n",
        "\n",
        "XX = 4 * np.random.rand(m) - 2 # Randomly select m points in the range [-2, 2]\n",
        "YY = w[0] + w[1] * XX + w[2] * (XX**2) # calculate the true outputs\n",
        "YY += np.random.normal(scale = 0.3, size = YY.size) # add noise to simulate observation error"
      ]
    },
    {
      "cell_type": "code",
      "execution_count": 6,
      "metadata": {
        "id": "mODgLtyjp122",
        "outputId": "29702840-082a-43b0-a8b4-9b2e36c6341e",
        "colab": {
          "base_uri": "https://localhost:8080/",
          "height": 281
        }
      },
      "outputs": [
        {
          "output_type": "display_data",
          "data": {
            "text/plain": [
              "<Figure size 432x288 with 1 Axes>"
            ],
            "image/png": "[encoded data removed]"
          },
          "metadata": {
            "needs_background": "light"
          }
        }
      ],
      "source": [
        "import matplotlib.pyplot as plt\n",
        "\n",
        "plt.title('Our noisy dataset')\n",
        "plt.plot(XX, YY, '.')\n",
        "plt.show()"
      ]
    },
    {
      "cell_type": "markdown",
      "metadata": {
        "id": "Mol1WOWzp122"
      },
      "source": [
        "Now we are ready to estimate the values of our parameters, using only the observed samples, and the knowledge that the model we are seeking is a 2 degree polynomial.\n",
        "\n",
        "First of all, we will define three variables for our weights that we will initialise to some value - you can try to change the initialisation value to check that it has no effect in the final result.\n",
        "\n",
        "We will eventually want to calculate the derivatives of the error with respect to each of these weights, so that we can apply gradient descent. Therefore, these variables require gradient calculation as well."
      ]
    },
    {
      "cell_type": "code",
      "execution_count": 7,
      "metadata": {
        "id": "m7ZXv4ecp122"
      },
      "outputs": [],
      "source": [
        "# Create variables for our parameters (weights), and initialise them all to 1.0\n",
        "w0 = Variable(0.0, requiresGrad = True)\n",
        "w1 = Variable(0.0, requiresGrad = True)\n",
        "w2 = Variable(0.0, requiresGrad = True)"
      ]
    },
    {
      "cell_type": "markdown",
      "metadata": {
        "id": "8FKs5lxWp122"
      },
      "source": [
        "Next, we do a bit of housekeeping. We define the learning rate that we will use (feel free to change it and see what happens), as well as an empty list in which we will be keeping track of the training loss as it evolves during our training.\n",
        "\n",
        "*Note that we use \"loss\" and \"cost\" quite interchangably in these notebooks - the correct way to use it would be to call loss just the individual error for a single sample, and cost the aggregated error over the whole batch. In practice you will see these names used quite interchangably by different authors, and you should be able to tell what they refer to every time you see them.*"
      ]
    },
    {
      "cell_type": "code",
      "execution_count": 8,
      "metadata": {
        "id": "51wHAjCbp123"
      },
      "outputs": [],
      "source": [
        "lr = 0.01 # Our learning rate\n",
        "training_loss = []"
      ]
    },
    {
      "cell_type": "markdown",
      "metadata": {
        "id": "mGSoDFUqp123"
      },
      "source": [
        "Now we will define our typical training loop to implement gradient descent.\n",
        "\n",
        "During each epoch we process the whole batch of data we have, and we will do 2000 epochs (feel free to change this and see what happens).\n",
        "\n",
        "Within each epoch, we will take each sample in our dataset and do a forward pass - calculate the polynomial, using our current values for the weights. The result `out` is our estimated output for the sample. We will then compare it with the true value for the sample (the noisy value we have observed). Here we will use a Mean Square Error cost, so our loss is just the square distance between the estimated and the true (observed) value.\n",
        "\n",
        "We will accumulate the loss for all samples into the `batch_loss` variable, and at the end of each epoch we will divide by the number of samples to get the average error.\n",
        "\n",
        "This is the value that we will backpropagate. This will update the gradient information of all our variables that require gradients, all the way back to the three weights. These gradients are then used to update the weights using simple gradient descent."
      ]
    },
    {
      "cell_type": "code",
      "execution_count": 9,
      "metadata": {
        "id": "P--jDk0Fp123",
        "outputId": "9acf3f80-d502-4c10-cf9c-bdb0248f942b",
        "colab": {
          "base_uri": "https://localhost:8080/"
        }
      },
      "outputs": [
        {
          "output_type": "stream",
          "name": "stdout",
          "text": [
            "Training took (secs): 33.55980134010315\n"
          ]
        }
      ],
      "source": [
        "import time\n",
        "\n",
        "t = time.time() # Keep track of the time we started\n",
        "\n",
        "for epoch in range(2000):\n",
        "\n",
        "    #Zero gradients\n",
        "    w0.zeroGrad()\n",
        "    w1.zeroGrad()\n",
        "    w2.zeroGrad()\n",
        "    \n",
        "    batch_loss = Variable(0.0)\n",
        "    for x, y in zip(XX, YY):\n",
        "        #Forward pass\n",
        "        out = w0 + w1 * x + w2 * (x**2)\n",
        "        \n",
        "        # calculate loss for this training sample\n",
        "        loss = (out - y)**2\n",
        "        \n",
        "        # accumulate losses\n",
        "        batch_loss = batch_loss + loss\n",
        "        \n",
        "\n",
        "    # calculate cost (average of the individual losses)\n",
        "    batch_loss = batch_loss/m\n",
        "    training_loss.append(batch_loss.value) # keep track of how our training loss evolves\n",
        "    \n",
        "    #backpropagate\n",
        "    batch_loss.backProp()\n",
        "\n",
        "    #Update parameters\n",
        "    w0.value = w0.value - lr * w0.grad\n",
        "    w1.value = w1.value - lr * w1.grad\n",
        "    w2.value = w2.value - lr * w2.grad    \n",
        "\n",
        "    del batch_loss # this should free some resources\n",
        "\n",
        "# Check how long it took\n",
        "print(\"Training took (secs):\", time.time() - t)"
      ]
    },
    {
      "cell_type": "markdown",
      "metadata": {
        "id": "xbmM9X77p123"
      },
      "source": [
        "So, that took a while. Let's see what values we estimated."
      ]
    },
    {
      "cell_type": "code",
      "execution_count": 10,
      "metadata": {
        "id": "ERstNJ2bp123",
        "outputId": "52946f32-527a-43a0-d080-f8bcbb887c53",
        "colab": {
          "base_uri": "https://localhost:8080/",
          "height": 312
        }
      },
      "outputs": [
        {
          "output_type": "stream",
          "name": "stdout",
          "text": [
            "Estimated weights: -0.931801204812856 1.9906592410657935 0.9770351167213436\n"
          ]
        },
        {
          "output_type": "display_data",
          "data": {
            "text/plain": [
              "<Figure size 432x288 with 1 Axes>"
            ],
            "image/png": "[encoded data removed]"
          },
          "metadata": {
            "needs_background": "light"
          }
        }
      ],
      "source": [
        "# Print our our results\n",
        "print(\"Estimated weights:\", w0.value, w1.value, w2.value)\n",
        "\n",
        "#Make a plot of the evolution of the training loss\n",
        "plt.title('Evolution of the training loss')\n",
        "plt.xlabel(\"# Interation\")\n",
        "plt.ylabel(\"Training loss\")\n",
        "plt.plot(training_loss)\n",
        "plt.show()"
      ]
    },
    {
      "cell_type": "markdown",
      "metadata": {
        "id": "qBXYMBsup123"
      },
      "source": [
        "The estimated values are not very far off the real values we used in the beginning. This is good news. Let's also plot the estimated polynomial to double check."
      ]
    },
    {
      "cell_type": "code",
      "execution_count": 11,
      "metadata": {
        "id": "o6LbuI1-p124",
        "outputId": "66f87a41-5788-4ebd-d004-52f2e38de948",
        "colab": {
          "base_uri": "https://localhost:8080/",
          "height": 298
        }
      },
      "outputs": [
        {
          "output_type": "execute_result",
          "data": {
            "text/plain": [
              "[<matplotlib.lines.Line2D at 0x7f5500c85b50>]"
            ]
          },
          "metadata": {},
          "execution_count": 11
        },
        {
          "output_type": "display_data",
          "data": {
            "text/plain": [
              "<Figure size 432x288 with 1 Axes>"
            ],
            "image/png": "[encoded data removed]"
          },
          "metadata": {
            "needs_background": "light"
          }
        }
      ],
      "source": [
        "# Plot the result\n",
        "plt.title('Our estimated fit')\n",
        "plt.plot(XX, YY, '.')\n",
        "\n",
        "x = np.arange(-2, 2, 0.1)\n",
        "y = w0.value + w1.value * x + w2.value * x**2\n",
        "plt.plot(x, y, 'r')"
      ]
    },
    {
      "cell_type": "markdown",
      "metadata": {
        "id": "R_mFg7vxp124"
      },
      "source": [
        "Note that the code above is VERY inefficient, but it should be readable.\n",
        "\n",
        "<font color=red>**Question:** Can you describe / draw the computation graph we have created here.</font>"
      ]
    },
    {
      "cell_type": "markdown",
      "metadata": {
        "id": "DKaKmrCWp124"
      },
      "source": [
        "---\n",
        "\n",
        "*Answer*\n",
        "\n",
        "Al gràfic anterior observem la corva polinomial que estima les dades de les que disposem. L'aproximació consisteix en l'ús dels pesos w0, w1 i w2 de la següent manera: w0 + w1 * x + w2 * x**2. Tenim d'aquesta manera una corva polinomial de segon grau, que usa una \"feature\", x, per predir la sortida, el pes w0 com a intercept, w1 multiplicant x i w2 multiplicant x elevada a 2.\n",
        "\n",
        "---\n"
      ]
    },
    {
      "cell_type": "markdown",
      "metadata": {
        "id": "S-Lxte7Gp124"
      },
      "source": [
        "<font color=red>**Exercise:** Have a look at the slides of the course, and try to come up with a more efficient implementation. Measure the time it takes and confirm you are doing it better than what we achieved before.</font>"
      ]
    },
    {
      "cell_type": "code",
      "source": [
        "import random"
      ],
      "metadata": {
        "id": "NM4qc2MeqnKg"
      },
      "execution_count": 12,
      "outputs": []
    },
    {
      "cell_type": "code",
      "execution_count": 13,
      "metadata": {
        "id": "xfVvfGIgp124",
        "colab": {
          "base_uri": "https://localhost:8080/"
        },
        "outputId": "1078d279-110e-47f9-b2ca-6e05279f3291"
      },
      "outputs": [
        {
          "output_type": "stream",
          "name": "stdout",
          "text": [
            "Training took (secs): 0.1521134376525879\n"
          ]
        }
      ],
      "source": [
        "# Your code here\n",
        "\n",
        "t = time.time() # Keep track of the time we started\n",
        "\n",
        "for epoch in range(2000):\n",
        "\n",
        "    #Zero gradients\n",
        "    w0.zeroGrad()\n",
        "    w1.zeroGrad()\n",
        "    w2.zeroGrad()\n",
        "    \n",
        "    batch_loss = Variable(0.0)\n",
        "    \n",
        "    mostra = random.randint(0,m-1)\n",
        "    x = XX[mostra]\n",
        "    y = YY[mostra]\n",
        "\n",
        "    #Forward pass\n",
        "    out = w0 + w1 * x + w2 * (x**2)\n",
        "    \n",
        "    # calculate loss for this training sample\n",
        "    loss = (out - y)**2\n",
        "    \n",
        "    # accumulate losses\n",
        "    batch_loss = batch_loss + loss\n",
        "        \n",
        "\n",
        "    # calculate cost (average of the individual losses)\n",
        "    batch_loss = batch_loss/m\n",
        "    training_loss.append(batch_loss.value) # keep track of how our training loss evolves\n",
        "    \n",
        "    #backpropagate\n",
        "    batch_loss.backProp()\n",
        "\n",
        "    #Update parameters\n",
        "    w0.value = w0.value - lr * w0.grad\n",
        "    w1.value = w1.value - lr * w1.grad\n",
        "    w2.value = w2.value - lr * w2.grad    \n",
        "\n",
        "    del batch_loss # this should free some resources\n",
        "\n",
        "# Check how long it took\n",
        "print(\"Training took (secs):\", time.time() - t)"
      ]
    },
    {
      "cell_type": "markdown",
      "metadata": {
        "id": "vsS1BZoCp124"
      },
      "source": [
        "## Classification"
      ]
    },
    {
      "cell_type": "markdown",
      "metadata": {
        "id": "WdA-boq1p125"
      },
      "source": [
        "Now that we have seen how this works for regression, let's apply the same approach to a simple classification problem.\n",
        "\n",
        "First, we will create some random data for two concentric classes. The decision boundary between the two classes will be a circle."
      ]
    },
    {
      "cell_type": "code",
      "execution_count": 14,
      "metadata": {
        "id": "TIQcjp_gp125"
      },
      "outputs": [],
      "source": [
        "m_per_class = 50\n",
        "m= 2 * m_per_class\n",
        "w = [2.0, 1.0, 3.0] # corresponding to radius and center of a circular decision boundary\n",
        "\n",
        "#Class 1 - random points inside the decision boundary\n",
        "angle = 2.0 * np.pi * np.random.rand(m_per_class)\n",
        "radius = w[0] * np.random.rand(m_per_class) #Radius in [0, w0]\n",
        "\n",
        "XX1 = w[1] + radius * np.cos(angle)\n",
        "XX2 = w[2] + radius * np.sin(angle)\n",
        "labels = np.zeros(m_per_class)\n",
        "\n",
        "#Class 2 - random points outside the decision boundary\n",
        "angle = 2.0 * np.pi * np.random.rand(m_per_class)\n",
        "radius = w[0] +  w[0] * np.random.rand(m_per_class) #Radius in [w0, 2 * w0]\n",
        "\n",
        "XX1 = np.concatenate( (XX1, w[1] + radius * np.cos(angle)) )\n",
        "XX2 = np.concatenate( (XX2, w[2] + radius * np.sin(angle)) )\n",
        "labels = np.concatenate( (labels, np.ones(m_per_class)) )"
      ]
    },
    {
      "cell_type": "code",
      "execution_count": 15,
      "metadata": {
        "id": "ntuOep4lp125",
        "outputId": "19ae2dd8-c9e1-4a20-b04c-4900237f2e0d",
        "colab": {
          "base_uri": "https://localhost:8080/",
          "height": 337
        }
      },
      "outputs": [
        {
          "output_type": "execute_result",
          "data": {
            "text/plain": [
              "<matplotlib.collections.PathCollection at 0x7f5500cec850>"
            ]
          },
          "metadata": {},
          "execution_count": 15
        },
        {
          "output_type": "display_data",
          "data": {
            "text/plain": [
              "<Figure size 360x360 with 1 Axes>"
            ],
            "image/png": "[encoded data removed]"
          },
          "metadata": {
            "needs_background": "light"
          }
        }
      ],
      "source": [
        "import matplotlib.pyplot as plt\n",
        "\n",
        "plt.figure(figsize = (5, 5))\n",
        "plt.scatter(XX1, XX2, c = [('red' if cl == 0 else 'blue') for cl in labels])"
      ]
    },
    {
      "cell_type": "markdown",
      "metadata": {
        "id": "RCjJIBkOp125"
      },
      "source": [
        "Since we have our own AutoGrad framework, instead of handcrafting features we will try to solve this directly, assuming the equation of a circle with unknown centre and radius. Our AutoGrad framework will figure out the gradients for whatever equation we give it."
      ]
    },
    {
      "cell_type": "code",
      "source": [
        "import math"
      ],
      "metadata": {
        "id": "AtzBihLzuRSD"
      },
      "execution_count": 16,
      "outputs": []
    },
    {
      "cell_type": "markdown",
      "metadata": {
        "id": "aFHS_oxDp125"
      },
      "source": [
        "<font color=red>**Exercise:** Adapt the solution for the regression problem we saw before to this scenario. This would imply changing the equation for the forward pass to the equation of a circle + sigmoid activation, and also changing the loss to a cross entropy one. Update the autograd framework as you see fit, in case you need to use operations you do not have.</font>"
      ]
    },
    {
      "cell_type": "code",
      "source": [
        "w0 = Variable(1, requiresGrad = True)\n",
        "w1 = Variable(3.0, requiresGrad = True)\n",
        "w2 = Variable(2.7, requiresGrad = True)"
      ],
      "metadata": {
        "id": "nU_HyXTQxmf6"
      },
      "execution_count": 52,
      "outputs": []
    },
    {
      "cell_type": "code",
      "source": [
        "# Your code here\n",
        "\n",
        "t = time.time() # Keep track of the time we started\n",
        "\n",
        "for epoch in range(2000):\n",
        "\n",
        "    #Zero gradients\n",
        "    w0.zeroGrad()\n",
        "    w1.zeroGrad()\n",
        "    w2.zeroGrad()\n",
        "    \n",
        "    batch_loss = Variable(0.0)\n",
        "    \n",
        "    mostra = random.randint(0,m-1)\n",
        "    x1 = XX[mostra]\n",
        "    x2 = YY[mostra]\n",
        "\n",
        "    #Forward pass\n",
        "    out = ((x1-w0)**2 + (x2-w1)**2) - w2**2\n",
        "    out = 1/(1+vExp(-out))\n",
        "    \n",
        "    # calculate loss for this training sample\n",
        "    loss = -labels[mostra]*vLog(out)\n",
        "    \n",
        "    # accumulate losses\n",
        "    batch_loss = batch_loss + loss\n",
        "        \n",
        "\n",
        "    # calculate cost (average of the individual losses)\n",
        "    batch_loss = batch_loss/m\n",
        "    training_loss.append(batch_loss.value) # keep track of how our training loss evolves\n",
        "    \n",
        "    #backpropagate\n",
        "    batch_loss.backProp()\n",
        "\n",
        "    lr = 0.1\n",
        "    #Update parameters\n",
        "    w0.value = w0.value - lr * w0.grad\n",
        "    w1.value = w1.value - lr * w1.grad\n",
        "    w2.value = w2.value - lr * w2.grad    \n",
        "\n",
        "    del batch_loss # this should free some resources\n",
        "\n",
        "# Check how long it took\n",
        "print(\"Training took (secs):\", time.time() - t)\n",
        "print(w0)\n",
        "print(w1)\n",
        "print(w2)"
      ],
      "metadata": {
        "colab": {
          "base_uri": "https://localhost:8080/"
        },
        "id": "DYI-JBXhDhh8",
        "outputId": "75b1c6bb-08e3-4c5d-c765-b7ccab2de3e0"
      },
      "execution_count": 53,
      "outputs": [
        {
          "output_type": "stream",
          "name": "stdout",
          "text": [
            "Training took (secs): 0.34940242767333984\n",
            "Value: 0.97550000594418, Gradient: 0.0\n",
            "Value: 3.171246569092434, Gradient: 0.0\n",
            "Value: 2.0140799685544364, Gradient: 0.0\n"
          ]
        }
      ]
    },
    {
      "cell_type": "markdown",
      "metadata": {
        "id": "Z_H_nLlLp126"
      },
      "source": [
        "<font color=red>**Exercise:** Once you find a solution, plot the resulting decision boundary (hint, have a loot at the contour function of Matplotlib, and plot the contour of the loss function at the level 0.5)</font>"
      ]
    },
    {
      "cell_type": "code",
      "source": [
        "# Your code here\n",
        "import math\n",
        "plt.figure(figsize = (5, 5))\n",
        "plt.scatter(XX1, XX2, c = [('red' if cl == 0 else 'blue') for cl in labels])\n",
        "\n",
        "angle = np.linspace(0, 2*math.pi, 25)\n",
        "x = w2.value*np.cos(angle) + w0.value\n",
        "y = w2.value*np.sin(angle) + w1.value\n",
        "plt.plot(x, y, 'orange')"
      ],
      "metadata": {
        "colab": {
          "base_uri": "https://localhost:8080/",
          "height": 337
        },
        "id": "1fEuXHSM9PN0",
        "outputId": "9f541706-d84c-452e-caf3-09244ad44316"
      },
      "execution_count": 54,
      "outputs": [
        {
          "output_type": "execute_result",
          "data": {
            "text/plain": [
              "[<matplotlib.lines.Line2D at 0x7f54e96248e0>]"
            ]
          },
          "metadata": {},
          "execution_count": 54
        },
        {
          "output_type": "display_data",
          "data": {
            "text/plain": [
              "<Figure size 360x360 with 1 Axes>"
            ],
            "image/png": "[encoded data removed]"
          },
          "metadata": {
            "needs_background": "light"
          }
        }
      ]
    },
    {
      "cell_type": "markdown",
      "metadata": {
        "id": "BZAruexxp126"
      },
      "source": [
        "<font color=red>**Exercise:** Evaluate your classifier and calculate the accuracy over the training dataset. If you feel adventurous, generate a separate test set with the same parameters and evaluate there.</font>"
      ]
    },
    {
      "cell_type": "code",
      "execution_count": 59,
      "metadata": {
        "id": "NgihHlCrp126",
        "colab": {
          "base_uri": "https://localhost:8080/"
        },
        "outputId": "3c718dc2-6716-474a-ecad-14cc251328f0"
      },
      "outputs": [
        {
          "output_type": "stream",
          "name": "stdout",
          "text": [
            "0.97\n"
          ]
        }
      ],
      "source": [
        "# Your code here\n",
        "accuracy = 0\n",
        "for x1,x2,l in zip(XX1, XX2, labels):\n",
        "    classe = 1\n",
        "    if (x1-w0.value)**2+(x2-w1.value)**2 < w2.value**2:\n",
        "        classe = 0\n",
        "    \n",
        "    if classe == l:\n",
        "        accuracy += 1\n",
        "    \n",
        "print(accuracy/len(labels))"
      ]
    },
    {
      "cell_type": "code",
      "source": [],
      "metadata": {
        "id": "YV5L7DC7YoY8"
      },
      "execution_count": null,
      "outputs": []
    }
  ],
  "metadata": {
    "kernelspec": {
      "display_name": "Python 3 (ipykernel)",
      "language": "python",
      "name": "python3"
    },
    "language_info": {
      "codemirror_mode": {
        "name": "ipython",
        "version": 3
      },
      "file_extension": ".py",
      "mimetype": "text/x-python",
      "name": "python",
      "nbconvert_exporter": "python",
      "pygments_lexer": "ipython3",
      "version": "3.8.8"
    },
    "colab": {
      "provenance": []
    }
  },
  "nbformat": 4,
  "nbformat_minor": 0
}